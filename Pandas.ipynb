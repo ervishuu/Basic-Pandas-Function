{
  "nbformat": 4,
  "nbformat_minor": 0,
  "metadata": {
    "colab": {
      "name": "Pandas.ipynb",
      "provenance": [],
      "collapsed_sections": []
    },
    "kernelspec": {
      "name": "python3",
      "display_name": "Python 3"
    },
    "language_info": {
      "name": "python"
    }
  },
  "cells": [
    {
      "cell_type": "markdown",
      "metadata": {
        "id": "zxM3vtNDF3Zq"
      },
      "source": [
        "@@vishvanath_Metkari"
      ]
    },
    {
      "cell_type": "markdown",
      "metadata": {
        "id": "9ibCVdiCR9p3"
      },
      "source": [
        "## What is Pandas ?\n",
        "Pandas is an open source Python package that is most widely used for data science/data analysis and machine learning tasks.\n",
        "\n",
        "which can be imported using import pandas as pd.\n",
        "\n",
        "Pandas allows us to analyze big data and make conclusions based on statistical theories.\n",
        "\n",
        "Pandas can clean messy data sets, and make them readable and relevant.\n",
        "\n",
        "Relevant data is very important in data science.\n"
      ]
    },
    {
      "cell_type": "markdown",
      "metadata": {
        "id": "F_zUQKvMSd13"
      },
      "source": [
        "##What Can Pandas Do?\n",
        "Pandas gives you answers about the data. Like:\n",
        "\n",
        "Is there a correlation between two or more columns?\n",
        "\n",
        "What is average value?\n",
        "\n",
        "Max value?\n",
        "\n",
        "Min value?\n",
        "\n",
        "Pandas are also able to delete rows that are not relevant, or contains wrong values, like empty or NULL values. This is called cleaning the data."
      ]
    },
    {
      "cell_type": "code",
      "metadata": {
        "id": "BhGXqkNtRuBD"
      },
      "source": [
        "#Import pandas library\n",
        "import pandas as pd"
      ],
      "execution_count": 1,
      "outputs": []
    },
    {
      "cell_type": "markdown",
      "metadata": {
        "id": "_eCapBL0TAuX"
      },
      "source": [
        "##Creating a dataframe using List:\n",
        " DataFrame can be created using a single list or a list of lists.\n",
        "\n"
      ]
    },
    {
      "cell_type": "code",
      "metadata": {
        "colab": {
          "base_uri": "https://localhost:8080/",
          "height": 203
        },
        "id": "wgQn39aLS-Ae",
        "outputId": "8c33a6cc-799c-4655-c51d-c0667df1a2de"
      },
      "source": [
        "#Define List\n",
        "lst = [\"vishvanath\",\"Akash\",\"shrikant\",\"shubham\",\"saurabh\"]\n",
        "#convert list to dataframe\n",
        "df = pd.DataFrame(lst)\n",
        "df"
      ],
      "execution_count": 2,
      "outputs": [
        {
          "output_type": "execute_result",
          "data": {
            "text/html": [
              "<div>\n",
              "<style scoped>\n",
              "    .dataframe tbody tr th:only-of-type {\n",
              "        vertical-align: middle;\n",
              "    }\n",
              "\n",
              "    .dataframe tbody tr th {\n",
              "        vertical-align: top;\n",
              "    }\n",
              "\n",
              "    .dataframe thead th {\n",
              "        text-align: right;\n",
              "    }\n",
              "</style>\n",
              "<table border=\"1\" class=\"dataframe\">\n",
              "  <thead>\n",
              "    <tr style=\"text-align: right;\">\n",
              "      <th></th>\n",
              "      <th>0</th>\n",
              "    </tr>\n",
              "  </thead>\n",
              "  <tbody>\n",
              "    <tr>\n",
              "      <th>0</th>\n",
              "      <td>vishvanath</td>\n",
              "    </tr>\n",
              "    <tr>\n",
              "      <th>1</th>\n",
              "      <td>Akash</td>\n",
              "    </tr>\n",
              "    <tr>\n",
              "      <th>2</th>\n",
              "      <td>shrikant</td>\n",
              "    </tr>\n",
              "    <tr>\n",
              "      <th>3</th>\n",
              "      <td>shubham</td>\n",
              "    </tr>\n",
              "    <tr>\n",
              "      <th>4</th>\n",
              "      <td>saurabh</td>\n",
              "    </tr>\n",
              "  </tbody>\n",
              "</table>\n",
              "</div>"
            ],
            "text/plain": [
              "            0\n",
              "0  vishvanath\n",
              "1       Akash\n",
              "2    shrikant\n",
              "3     shubham\n",
              "4     saurabh"
            ]
          },
          "metadata": {},
          "execution_count": 2
        }
      ]
    },
    {
      "cell_type": "code",
      "metadata": {
        "colab": {
          "base_uri": "https://localhost:8080/",
          "height": 110
        },
        "id": "ieqa4i5wX0Jc",
        "outputId": "a49c2f8c-5f6c-403c-d272-f65061245385"
      },
      "source": [
        "lst1 = [[\"Vishu\",\"Akash\"],[\"Shubham\",\"Saurabh\"]]\n",
        "\n",
        "#convert list to dataframe\n",
        "df = pd.DataFrame(lst1)\n",
        "df"
      ],
      "execution_count": 3,
      "outputs": [
        {
          "output_type": "execute_result",
          "data": {
            "text/html": [
              "<div>\n",
              "<style scoped>\n",
              "    .dataframe tbody tr th:only-of-type {\n",
              "        vertical-align: middle;\n",
              "    }\n",
              "\n",
              "    .dataframe tbody tr th {\n",
              "        vertical-align: top;\n",
              "    }\n",
              "\n",
              "    .dataframe thead th {\n",
              "        text-align: right;\n",
              "    }\n",
              "</style>\n",
              "<table border=\"1\" class=\"dataframe\">\n",
              "  <thead>\n",
              "    <tr style=\"text-align: right;\">\n",
              "      <th></th>\n",
              "      <th>0</th>\n",
              "      <th>1</th>\n",
              "    </tr>\n",
              "  </thead>\n",
              "  <tbody>\n",
              "    <tr>\n",
              "      <th>0</th>\n",
              "      <td>Vishu</td>\n",
              "      <td>Akash</td>\n",
              "    </tr>\n",
              "    <tr>\n",
              "      <th>1</th>\n",
              "      <td>Shubham</td>\n",
              "      <td>Saurabh</td>\n",
              "    </tr>\n",
              "  </tbody>\n",
              "</table>\n",
              "</div>"
            ],
            "text/plain": [
              "         0        1\n",
              "0    Vishu    Akash\n",
              "1  Shubham  Saurabh"
            ]
          },
          "metadata": {},
          "execution_count": 3
        }
      ]
    },
    {
      "cell_type": "markdown",
      "metadata": {
        "id": "408gQL1AT-Ms"
      },
      "source": [
        "##Creating DataFrame from dict of ndarray/lists:"
      ]
    },
    {
      "cell_type": "code",
      "metadata": {
        "colab": {
          "base_uri": "https://localhost:8080/",
          "height": 142
        },
        "id": "4P14HMDMT5vJ",
        "outputId": "0f125722-e313-495c-d570-e7fb099fde6a"
      },
      "source": [
        "#Define Dictionary\n",
        "data = {\"Name\":[\"Vishvanath\",\"Akash\",\"Shubham\"],\n",
        "        \"Age\":[22,22,23]}\n",
        "#convert Dictionary to dataframe\n",
        "df = pd.DataFrame(data)\n",
        "df"
      ],
      "execution_count": 4,
      "outputs": [
        {
          "output_type": "execute_result",
          "data": {
            "text/html": [
              "<div>\n",
              "<style scoped>\n",
              "    .dataframe tbody tr th:only-of-type {\n",
              "        vertical-align: middle;\n",
              "    }\n",
              "\n",
              "    .dataframe tbody tr th {\n",
              "        vertical-align: top;\n",
              "    }\n",
              "\n",
              "    .dataframe thead th {\n",
              "        text-align: right;\n",
              "    }\n",
              "</style>\n",
              "<table border=\"1\" class=\"dataframe\">\n",
              "  <thead>\n",
              "    <tr style=\"text-align: right;\">\n",
              "      <th></th>\n",
              "      <th>Name</th>\n",
              "      <th>Age</th>\n",
              "    </tr>\n",
              "  </thead>\n",
              "  <tbody>\n",
              "    <tr>\n",
              "      <th>0</th>\n",
              "      <td>Vishvanath</td>\n",
              "      <td>22</td>\n",
              "    </tr>\n",
              "    <tr>\n",
              "      <th>1</th>\n",
              "      <td>Akash</td>\n",
              "      <td>22</td>\n",
              "    </tr>\n",
              "    <tr>\n",
              "      <th>2</th>\n",
              "      <td>Shubham</td>\n",
              "      <td>23</td>\n",
              "    </tr>\n",
              "  </tbody>\n",
              "</table>\n",
              "</div>"
            ],
            "text/plain": [
              "         Name  Age\n",
              "0  Vishvanath   22\n",
              "1       Akash   22\n",
              "2     Shubham   23"
            ]
          },
          "metadata": {},
          "execution_count": 4
        }
      ]
    },
    {
      "cell_type": "markdown",
      "metadata": {
        "id": "43n1RTxGUie7"
      },
      "source": [
        "##Column Selection: \n",
        "In Order to select a column in Pandas DataFrame, we can either access the columns by calling them by their columns name"
      ]
    },
    {
      "cell_type": "code",
      "metadata": {
        "colab": {
          "base_uri": "https://localhost:8080/"
        },
        "id": "Kjmrs5WoUVxr",
        "outputId": "b73c5226-aa09-4266-bb29-3307b5e01047"
      },
      "source": [
        "#Define Dictionary\n",
        "data = {\"Name\":[\"Vishvanath\",\"Akash\",\"Shubham\"],\n",
        "        \"Age\":[22,22,23],\n",
        "        \"Marks\":[45,66,87]}\n",
        "\n",
        "#convert list to dataframe\n",
        "df = pd.DataFrame(data)\n",
        "\n",
        "#select columns\n",
        "print(df[[\"Name\",\"Marks\"]])\n"
      ],
      "execution_count": 5,
      "outputs": [
        {
          "output_type": "stream",
          "name": "stdout",
          "text": [
            "         Name  Marks\n",
            "0  Vishvanath     45\n",
            "1       Akash     66\n",
            "2     Shubham     87\n"
          ]
        }
      ]
    },
    {
      "cell_type": "markdown",
      "metadata": {
        "id": "S_BdTpLgV62L"
      },
      "source": [
        "##Row Selection: \n",
        "Pandas provide a unique method to retrieve rows from a Data frame.\n",
        "\n",
        " DataFrame.loc[] method is used to retrieve rows from Pandas DataFrame. \n",
        "\n",
        " Rows can also be selected by passing integer location to an iloc[] function."
      ]
    },
    {
      "cell_type": "code",
      "metadata": {
        "colab": {
          "base_uri": "https://localhost:8080/"
        },
        "id": "UlXfzOyBVVEg",
        "outputId": "bf1c3390-60aa-4c35-f989-b729a0fa1a4b"
      },
      "source": [
        "df = pd.DataFrame([[1, 2], [4, 5], [7, 8]],\n",
        "     index=['cobra', 'viper', 'sidewinder'],\n",
        "     columns=['max_speed', 'shield'])\n",
        "\n",
        "# retrieving row by loc method\n",
        "row_loc_method = df.loc[\"cobra\"]\n",
        "row_loc_method"
      ],
      "execution_count": 6,
      "outputs": [
        {
          "output_type": "execute_result",
          "data": {
            "text/plain": [
              "max_speed    1\n",
              "shield       2\n",
              "Name: cobra, dtype: int64"
            ]
          },
          "metadata": {},
          "execution_count": 6
        }
      ]
    },
    {
      "cell_type": "markdown",
      "metadata": {
        "id": "_Fzz3bG5bBvH"
      },
      "source": [
        "In order to select a single row using .iloc[], we can pass a single integer to .iloc[] function."
      ]
    },
    {
      "cell_type": "code",
      "metadata": {
        "colab": {
          "base_uri": "https://localhost:8080/"
        },
        "id": "QudYvwt8Wn-3",
        "outputId": "65e7eb69-d6f5-4ae0-b7d8-1746f9eec9c2"
      },
      "source": [
        "df = pd.DataFrame([[1, 2], [4, 5], [7, 8]],\n",
        "     index=['cobra', 'viper', 'sidewinder'],\n",
        "     columns=['max_speed', 'shield'])\n",
        "\n",
        "# retrieving row by loc method\n",
        "row_iloc_method = df.iloc[2]\n",
        "row_iloc_method"
      ],
      "execution_count": 7,
      "outputs": [
        {
          "output_type": "execute_result",
          "data": {
            "text/plain": [
              "max_speed    7\n",
              "shield       8\n",
              "Name: sidewinder, dtype: int64"
            ]
          },
          "metadata": {},
          "execution_count": 7
        }
      ]
    },
    {
      "cell_type": "markdown",
      "metadata": {
        "id": "pYp1kS3cbimh"
      },
      "source": [
        "Checking for missing values using isnull() and notnull() :"
      ]
    },
    {
      "cell_type": "code",
      "metadata": {
        "colab": {
          "base_uri": "https://localhost:8080/",
          "height": 203
        },
        "id": "lvm5ykiwbTNI",
        "outputId": "bfbb96fc-6ccf-4ac5-8643-7ef451c29b5a"
      },
      "source": [
        "import numpy as np\n",
        "#create dictionary\n",
        "data = {\"First Score\":[100,34,54,np.nan,55],\n",
        "        \"Second Score\":[33,np.nan,33,55,2],\n",
        "        \"Third Score\":[np.nan,22,55,24,78]}\n",
        "df= pd.DataFrame(data)\n",
        "df"
      ],
      "execution_count": 8,
      "outputs": [
        {
          "output_type": "execute_result",
          "data": {
            "text/html": [
              "<div>\n",
              "<style scoped>\n",
              "    .dataframe tbody tr th:only-of-type {\n",
              "        vertical-align: middle;\n",
              "    }\n",
              "\n",
              "    .dataframe tbody tr th {\n",
              "        vertical-align: top;\n",
              "    }\n",
              "\n",
              "    .dataframe thead th {\n",
              "        text-align: right;\n",
              "    }\n",
              "</style>\n",
              "<table border=\"1\" class=\"dataframe\">\n",
              "  <thead>\n",
              "    <tr style=\"text-align: right;\">\n",
              "      <th></th>\n",
              "      <th>First Score</th>\n",
              "      <th>Second Score</th>\n",
              "      <th>Third Score</th>\n",
              "    </tr>\n",
              "  </thead>\n",
              "  <tbody>\n",
              "    <tr>\n",
              "      <th>0</th>\n",
              "      <td>100.0</td>\n",
              "      <td>33.0</td>\n",
              "      <td>NaN</td>\n",
              "    </tr>\n",
              "    <tr>\n",
              "      <th>1</th>\n",
              "      <td>34.0</td>\n",
              "      <td>NaN</td>\n",
              "      <td>22.0</td>\n",
              "    </tr>\n",
              "    <tr>\n",
              "      <th>2</th>\n",
              "      <td>54.0</td>\n",
              "      <td>33.0</td>\n",
              "      <td>55.0</td>\n",
              "    </tr>\n",
              "    <tr>\n",
              "      <th>3</th>\n",
              "      <td>NaN</td>\n",
              "      <td>55.0</td>\n",
              "      <td>24.0</td>\n",
              "    </tr>\n",
              "    <tr>\n",
              "      <th>4</th>\n",
              "      <td>55.0</td>\n",
              "      <td>2.0</td>\n",
              "      <td>78.0</td>\n",
              "    </tr>\n",
              "  </tbody>\n",
              "</table>\n",
              "</div>"
            ],
            "text/plain": [
              "   First Score  Second Score  Third Score\n",
              "0        100.0          33.0          NaN\n",
              "1         34.0           NaN         22.0\n",
              "2         54.0          33.0         55.0\n",
              "3          NaN          55.0         24.0\n",
              "4         55.0           2.0         78.0"
            ]
          },
          "metadata": {},
          "execution_count": 8
        }
      ]
    },
    {
      "cell_type": "code",
      "metadata": {
        "colab": {
          "base_uri": "https://localhost:8080/",
          "height": 203
        },
        "id": "hMMnd-YOcGjX",
        "outputId": "59c76642-66e9-40e4-8243-77b1766189b0"
      },
      "source": [
        "df.isnull()"
      ],
      "execution_count": 9,
      "outputs": [
        {
          "output_type": "execute_result",
          "data": {
            "text/html": [
              "<div>\n",
              "<style scoped>\n",
              "    .dataframe tbody tr th:only-of-type {\n",
              "        vertical-align: middle;\n",
              "    }\n",
              "\n",
              "    .dataframe tbody tr th {\n",
              "        vertical-align: top;\n",
              "    }\n",
              "\n",
              "    .dataframe thead th {\n",
              "        text-align: right;\n",
              "    }\n",
              "</style>\n",
              "<table border=\"1\" class=\"dataframe\">\n",
              "  <thead>\n",
              "    <tr style=\"text-align: right;\">\n",
              "      <th></th>\n",
              "      <th>First Score</th>\n",
              "      <th>Second Score</th>\n",
              "      <th>Third Score</th>\n",
              "    </tr>\n",
              "  </thead>\n",
              "  <tbody>\n",
              "    <tr>\n",
              "      <th>0</th>\n",
              "      <td>False</td>\n",
              "      <td>False</td>\n",
              "      <td>True</td>\n",
              "    </tr>\n",
              "    <tr>\n",
              "      <th>1</th>\n",
              "      <td>False</td>\n",
              "      <td>True</td>\n",
              "      <td>False</td>\n",
              "    </tr>\n",
              "    <tr>\n",
              "      <th>2</th>\n",
              "      <td>False</td>\n",
              "      <td>False</td>\n",
              "      <td>False</td>\n",
              "    </tr>\n",
              "    <tr>\n",
              "      <th>3</th>\n",
              "      <td>True</td>\n",
              "      <td>False</td>\n",
              "      <td>False</td>\n",
              "    </tr>\n",
              "    <tr>\n",
              "      <th>4</th>\n",
              "      <td>False</td>\n",
              "      <td>False</td>\n",
              "      <td>False</td>\n",
              "    </tr>\n",
              "  </tbody>\n",
              "</table>\n",
              "</div>"
            ],
            "text/plain": [
              "   First Score  Second Score  Third Score\n",
              "0        False         False         True\n",
              "1        False          True        False\n",
              "2        False         False        False\n",
              "3         True         False        False\n",
              "4        False         False        False"
            ]
          },
          "metadata": {},
          "execution_count": 9
        }
      ]
    },
    {
      "cell_type": "code",
      "metadata": {
        "colab": {
          "base_uri": "https://localhost:8080/"
        },
        "id": "p5aKFx4qcYfY",
        "outputId": "815939d5-7ad7-4b96-f0c3-4c2070253c25"
      },
      "source": [
        "df.isnull().sum()"
      ],
      "execution_count": 10,
      "outputs": [
        {
          "output_type": "execute_result",
          "data": {
            "text/plain": [
              "First Score     1\n",
              "Second Score    1\n",
              "Third Score     1\n",
              "dtype: int64"
            ]
          },
          "metadata": {},
          "execution_count": 10
        }
      ]
    },
    {
      "cell_type": "code",
      "metadata": {
        "colab": {
          "base_uri": "https://localhost:8080/",
          "height": 203
        },
        "id": "xwrhqwlCcdhT",
        "outputId": "56aad33a-8d0c-4953-f9c6-54300b822a5a"
      },
      "source": [
        "df.notnull()"
      ],
      "execution_count": 11,
      "outputs": [
        {
          "output_type": "execute_result",
          "data": {
            "text/html": [
              "<div>\n",
              "<style scoped>\n",
              "    .dataframe tbody tr th:only-of-type {\n",
              "        vertical-align: middle;\n",
              "    }\n",
              "\n",
              "    .dataframe tbody tr th {\n",
              "        vertical-align: top;\n",
              "    }\n",
              "\n",
              "    .dataframe thead th {\n",
              "        text-align: right;\n",
              "    }\n",
              "</style>\n",
              "<table border=\"1\" class=\"dataframe\">\n",
              "  <thead>\n",
              "    <tr style=\"text-align: right;\">\n",
              "      <th></th>\n",
              "      <th>First Score</th>\n",
              "      <th>Second Score</th>\n",
              "      <th>Third Score</th>\n",
              "    </tr>\n",
              "  </thead>\n",
              "  <tbody>\n",
              "    <tr>\n",
              "      <th>0</th>\n",
              "      <td>True</td>\n",
              "      <td>True</td>\n",
              "      <td>False</td>\n",
              "    </tr>\n",
              "    <tr>\n",
              "      <th>1</th>\n",
              "      <td>True</td>\n",
              "      <td>False</td>\n",
              "      <td>True</td>\n",
              "    </tr>\n",
              "    <tr>\n",
              "      <th>2</th>\n",
              "      <td>True</td>\n",
              "      <td>True</td>\n",
              "      <td>True</td>\n",
              "    </tr>\n",
              "    <tr>\n",
              "      <th>3</th>\n",
              "      <td>False</td>\n",
              "      <td>True</td>\n",
              "      <td>True</td>\n",
              "    </tr>\n",
              "    <tr>\n",
              "      <th>4</th>\n",
              "      <td>True</td>\n",
              "      <td>True</td>\n",
              "      <td>True</td>\n",
              "    </tr>\n",
              "  </tbody>\n",
              "</table>\n",
              "</div>"
            ],
            "text/plain": [
              "   First Score  Second Score  Third Score\n",
              "0         True          True        False\n",
              "1         True         False         True\n",
              "2         True          True         True\n",
              "3        False          True         True\n",
              "4         True          True         True"
            ]
          },
          "metadata": {},
          "execution_count": 11
        }
      ]
    },
    {
      "cell_type": "markdown",
      "metadata": {
        "id": "JD85123bcxcc"
      },
      "source": [
        "Filling missing values using fillna(), replace() :"
      ]
    },
    {
      "cell_type": "code",
      "metadata": {
        "colab": {
          "base_uri": "https://localhost:8080/",
          "height": 203
        },
        "id": "9J4yhV09cqIa",
        "outputId": "a756145b-a190-49c8-f7eb-ec55b9dfa0a2"
      },
      "source": [
        "df.fillna(33)"
      ],
      "execution_count": 12,
      "outputs": [
        {
          "output_type": "execute_result",
          "data": {
            "text/html": [
              "<div>\n",
              "<style scoped>\n",
              "    .dataframe tbody tr th:only-of-type {\n",
              "        vertical-align: middle;\n",
              "    }\n",
              "\n",
              "    .dataframe tbody tr th {\n",
              "        vertical-align: top;\n",
              "    }\n",
              "\n",
              "    .dataframe thead th {\n",
              "        text-align: right;\n",
              "    }\n",
              "</style>\n",
              "<table border=\"1\" class=\"dataframe\">\n",
              "  <thead>\n",
              "    <tr style=\"text-align: right;\">\n",
              "      <th></th>\n",
              "      <th>First Score</th>\n",
              "      <th>Second Score</th>\n",
              "      <th>Third Score</th>\n",
              "    </tr>\n",
              "  </thead>\n",
              "  <tbody>\n",
              "    <tr>\n",
              "      <th>0</th>\n",
              "      <td>100.0</td>\n",
              "      <td>33.0</td>\n",
              "      <td>33.0</td>\n",
              "    </tr>\n",
              "    <tr>\n",
              "      <th>1</th>\n",
              "      <td>34.0</td>\n",
              "      <td>33.0</td>\n",
              "      <td>22.0</td>\n",
              "    </tr>\n",
              "    <tr>\n",
              "      <th>2</th>\n",
              "      <td>54.0</td>\n",
              "      <td>33.0</td>\n",
              "      <td>55.0</td>\n",
              "    </tr>\n",
              "    <tr>\n",
              "      <th>3</th>\n",
              "      <td>33.0</td>\n",
              "      <td>55.0</td>\n",
              "      <td>24.0</td>\n",
              "    </tr>\n",
              "    <tr>\n",
              "      <th>4</th>\n",
              "      <td>55.0</td>\n",
              "      <td>2.0</td>\n",
              "      <td>78.0</td>\n",
              "    </tr>\n",
              "  </tbody>\n",
              "</table>\n",
              "</div>"
            ],
            "text/plain": [
              "   First Score  Second Score  Third Score\n",
              "0        100.0          33.0         33.0\n",
              "1         34.0          33.0         22.0\n",
              "2         54.0          33.0         55.0\n",
              "3         33.0          55.0         24.0\n",
              "4         55.0           2.0         78.0"
            ]
          },
          "metadata": {},
          "execution_count": 12
        }
      ]
    },
    {
      "cell_type": "markdown",
      "metadata": {
        "id": "RyBcUQUzdkeE"
      },
      "source": [
        "The replace() method replaces a specified phrase with another specified phrase"
      ]
    },
    {
      "cell_type": "code",
      "metadata": {
        "colab": {
          "base_uri": "https://localhost:8080/"
        },
        "id": "xAJgH_-edf2M",
        "outputId": "37edf331-7ff5-4b59-c325-5b536497c1e1"
      },
      "source": [
        "txt = \"I like bananas\"\n",
        "\n",
        "x = txt.replace(\"bananas\", \"apples\")\n",
        "\n",
        "print(x)"
      ],
      "execution_count": 13,
      "outputs": [
        {
          "output_type": "stream",
          "name": "stdout",
          "text": [
            "I like apples\n"
          ]
        }
      ]
    },
    {
      "cell_type": "markdown",
      "metadata": {
        "id": "oEfU0EnYeE9U"
      },
      "source": [
        "####Dropping missing values using dropna() :\n",
        "\n",
        "In order to drop a null values from a dataframe, we used dropna() function this fuction drop Rows/Columns of datasets with Null values in different ways."
      ]
    },
    {
      "cell_type": "code",
      "metadata": {
        "colab": {
          "base_uri": "https://localhost:8080/",
          "height": 203
        },
        "id": "fO3y-XeTdgv9",
        "outputId": "e39e4fcc-c85a-44ff-8e94-1638c7fab7c5"
      },
      "source": [
        "import numpy as np\n",
        "\n",
        "#Dictionary of list\n",
        "data = {\"First Score\":[11,33,54,np.nan,23],\n",
        "        \"Second Score\":[np.nan,54,23,44,11],\n",
        "        \"Third Score\":[22,46,np.nan,64,2],\n",
        "        \"Fourth Score\":[22,43,4,22,6]}\n",
        "df = pd.DataFrame(data)\n",
        "df"
      ],
      "execution_count": 14,
      "outputs": [
        {
          "output_type": "execute_result",
          "data": {
            "text/html": [
              "<div>\n",
              "<style scoped>\n",
              "    .dataframe tbody tr th:only-of-type {\n",
              "        vertical-align: middle;\n",
              "    }\n",
              "\n",
              "    .dataframe tbody tr th {\n",
              "        vertical-align: top;\n",
              "    }\n",
              "\n",
              "    .dataframe thead th {\n",
              "        text-align: right;\n",
              "    }\n",
              "</style>\n",
              "<table border=\"1\" class=\"dataframe\">\n",
              "  <thead>\n",
              "    <tr style=\"text-align: right;\">\n",
              "      <th></th>\n",
              "      <th>First Score</th>\n",
              "      <th>Second Score</th>\n",
              "      <th>Third Score</th>\n",
              "      <th>Fourth Score</th>\n",
              "    </tr>\n",
              "  </thead>\n",
              "  <tbody>\n",
              "    <tr>\n",
              "      <th>0</th>\n",
              "      <td>11.0</td>\n",
              "      <td>NaN</td>\n",
              "      <td>22.0</td>\n",
              "      <td>22</td>\n",
              "    </tr>\n",
              "    <tr>\n",
              "      <th>1</th>\n",
              "      <td>33.0</td>\n",
              "      <td>54.0</td>\n",
              "      <td>46.0</td>\n",
              "      <td>43</td>\n",
              "    </tr>\n",
              "    <tr>\n",
              "      <th>2</th>\n",
              "      <td>54.0</td>\n",
              "      <td>23.0</td>\n",
              "      <td>NaN</td>\n",
              "      <td>4</td>\n",
              "    </tr>\n",
              "    <tr>\n",
              "      <th>3</th>\n",
              "      <td>NaN</td>\n",
              "      <td>44.0</td>\n",
              "      <td>64.0</td>\n",
              "      <td>22</td>\n",
              "    </tr>\n",
              "    <tr>\n",
              "      <th>4</th>\n",
              "      <td>23.0</td>\n",
              "      <td>11.0</td>\n",
              "      <td>2.0</td>\n",
              "      <td>6</td>\n",
              "    </tr>\n",
              "  </tbody>\n",
              "</table>\n",
              "</div>"
            ],
            "text/plain": [
              "   First Score  Second Score  Third Score  Fourth Score\n",
              "0         11.0           NaN         22.0            22\n",
              "1         33.0          54.0         46.0            43\n",
              "2         54.0          23.0          NaN             4\n",
              "3          NaN          44.0         64.0            22\n",
              "4         23.0          11.0          2.0             6"
            ]
          },
          "metadata": {},
          "execution_count": 14
        }
      ]
    },
    {
      "cell_type": "code",
      "metadata": {
        "colab": {
          "base_uri": "https://localhost:8080/",
          "height": 110
        },
        "id": "F2qfYZXydgtu",
        "outputId": "bd3a70f6-762a-4ece-c3e3-e9fd5cfe1bc1"
      },
      "source": [
        "df.dropna() # axis = 0 means drop rows"
      ],
      "execution_count": 15,
      "outputs": [
        {
          "output_type": "execute_result",
          "data": {
            "text/html": [
              "<div>\n",
              "<style scoped>\n",
              "    .dataframe tbody tr th:only-of-type {\n",
              "        vertical-align: middle;\n",
              "    }\n",
              "\n",
              "    .dataframe tbody tr th {\n",
              "        vertical-align: top;\n",
              "    }\n",
              "\n",
              "    .dataframe thead th {\n",
              "        text-align: right;\n",
              "    }\n",
              "</style>\n",
              "<table border=\"1\" class=\"dataframe\">\n",
              "  <thead>\n",
              "    <tr style=\"text-align: right;\">\n",
              "      <th></th>\n",
              "      <th>First Score</th>\n",
              "      <th>Second Score</th>\n",
              "      <th>Third Score</th>\n",
              "      <th>Fourth Score</th>\n",
              "    </tr>\n",
              "  </thead>\n",
              "  <tbody>\n",
              "    <tr>\n",
              "      <th>1</th>\n",
              "      <td>33.0</td>\n",
              "      <td>54.0</td>\n",
              "      <td>46.0</td>\n",
              "      <td>43</td>\n",
              "    </tr>\n",
              "    <tr>\n",
              "      <th>4</th>\n",
              "      <td>23.0</td>\n",
              "      <td>11.0</td>\n",
              "      <td>2.0</td>\n",
              "      <td>6</td>\n",
              "    </tr>\n",
              "  </tbody>\n",
              "</table>\n",
              "</div>"
            ],
            "text/plain": [
              "   First Score  Second Score  Third Score  Fourth Score\n",
              "1         33.0          54.0         46.0            43\n",
              "4         23.0          11.0          2.0             6"
            ]
          },
          "metadata": {},
          "execution_count": 15
        }
      ]
    },
    {
      "cell_type": "code",
      "metadata": {
        "colab": {
          "base_uri": "https://localhost:8080/",
          "height": 203
        },
        "id": "zJB7hLKIdgrt",
        "outputId": "43522b2e-9169-4bd7-a6aa-341a86689c57"
      },
      "source": [
        "df.dropna(axis=1) # axis=1 means drop columns "
      ],
      "execution_count": 16,
      "outputs": [
        {
          "output_type": "execute_result",
          "data": {
            "text/html": [
              "<div>\n",
              "<style scoped>\n",
              "    .dataframe tbody tr th:only-of-type {\n",
              "        vertical-align: middle;\n",
              "    }\n",
              "\n",
              "    .dataframe tbody tr th {\n",
              "        vertical-align: top;\n",
              "    }\n",
              "\n",
              "    .dataframe thead th {\n",
              "        text-align: right;\n",
              "    }\n",
              "</style>\n",
              "<table border=\"1\" class=\"dataframe\">\n",
              "  <thead>\n",
              "    <tr style=\"text-align: right;\">\n",
              "      <th></th>\n",
              "      <th>Fourth Score</th>\n",
              "    </tr>\n",
              "  </thead>\n",
              "  <tbody>\n",
              "    <tr>\n",
              "      <th>0</th>\n",
              "      <td>22</td>\n",
              "    </tr>\n",
              "    <tr>\n",
              "      <th>1</th>\n",
              "      <td>43</td>\n",
              "    </tr>\n",
              "    <tr>\n",
              "      <th>2</th>\n",
              "      <td>4</td>\n",
              "    </tr>\n",
              "    <tr>\n",
              "      <th>3</th>\n",
              "      <td>22</td>\n",
              "    </tr>\n",
              "    <tr>\n",
              "      <th>4</th>\n",
              "      <td>6</td>\n",
              "    </tr>\n",
              "  </tbody>\n",
              "</table>\n",
              "</div>"
            ],
            "text/plain": [
              "   Fourth Score\n",
              "0            22\n",
              "1            43\n",
              "2             4\n",
              "3            22\n",
              "4             6"
            ]
          },
          "metadata": {},
          "execution_count": 16
        }
      ]
    },
    {
      "cell_type": "markdown",
      "metadata": {
        "id": "8rYa2UgChC1u"
      },
      "source": [
        "###Pandas Dataframe.describe() method\n",
        "\n",
        "Pandas describe() is used to view some basic statistical details like percentile, mean, std etc. of a data frame\n"
      ]
    },
    {
      "cell_type": "code",
      "metadata": {
        "colab": {
          "base_uri": "https://localhost:8080/",
          "height": 357
        },
        "id": "UbMYkAH9dgpQ",
        "outputId": "93376495-4e14-4606-88e5-0c16c5ecd6e0"
      },
      "source": [
        "import re  # importing regex module\n",
        "    \n",
        "# making data frame \n",
        "data = pd.read_csv(\"https://media.geeksforgeeks.org/wp-content/uploads/nba.csv\") \n",
        "    \n",
        "data.head(10)"
      ],
      "execution_count": 17,
      "outputs": [
        {
          "output_type": "execute_result",
          "data": {
            "text/html": [
              "<div>\n",
              "<style scoped>\n",
              "    .dataframe tbody tr th:only-of-type {\n",
              "        vertical-align: middle;\n",
              "    }\n",
              "\n",
              "    .dataframe tbody tr th {\n",
              "        vertical-align: top;\n",
              "    }\n",
              "\n",
              "    .dataframe thead th {\n",
              "        text-align: right;\n",
              "    }\n",
              "</style>\n",
              "<table border=\"1\" class=\"dataframe\">\n",
              "  <thead>\n",
              "    <tr style=\"text-align: right;\">\n",
              "      <th></th>\n",
              "      <th>Name</th>\n",
              "      <th>Team</th>\n",
              "      <th>Number</th>\n",
              "      <th>Position</th>\n",
              "      <th>Age</th>\n",
              "      <th>Height</th>\n",
              "      <th>Weight</th>\n",
              "      <th>College</th>\n",
              "      <th>Salary</th>\n",
              "    </tr>\n",
              "  </thead>\n",
              "  <tbody>\n",
              "    <tr>\n",
              "      <th>0</th>\n",
              "      <td>Avery Bradley</td>\n",
              "      <td>Boston Celtics</td>\n",
              "      <td>0.0</td>\n",
              "      <td>PG</td>\n",
              "      <td>25.0</td>\n",
              "      <td>6-2</td>\n",
              "      <td>180.0</td>\n",
              "      <td>Texas</td>\n",
              "      <td>7730337.0</td>\n",
              "    </tr>\n",
              "    <tr>\n",
              "      <th>1</th>\n",
              "      <td>Jae Crowder</td>\n",
              "      <td>Boston Celtics</td>\n",
              "      <td>99.0</td>\n",
              "      <td>SF</td>\n",
              "      <td>25.0</td>\n",
              "      <td>6-6</td>\n",
              "      <td>235.0</td>\n",
              "      <td>Marquette</td>\n",
              "      <td>6796117.0</td>\n",
              "    </tr>\n",
              "    <tr>\n",
              "      <th>2</th>\n",
              "      <td>John Holland</td>\n",
              "      <td>Boston Celtics</td>\n",
              "      <td>30.0</td>\n",
              "      <td>SG</td>\n",
              "      <td>27.0</td>\n",
              "      <td>6-5</td>\n",
              "      <td>205.0</td>\n",
              "      <td>Boston University</td>\n",
              "      <td>NaN</td>\n",
              "    </tr>\n",
              "    <tr>\n",
              "      <th>3</th>\n",
              "      <td>R.J. Hunter</td>\n",
              "      <td>Boston Celtics</td>\n",
              "      <td>28.0</td>\n",
              "      <td>SG</td>\n",
              "      <td>22.0</td>\n",
              "      <td>6-5</td>\n",
              "      <td>185.0</td>\n",
              "      <td>Georgia State</td>\n",
              "      <td>1148640.0</td>\n",
              "    </tr>\n",
              "    <tr>\n",
              "      <th>4</th>\n",
              "      <td>Jonas Jerebko</td>\n",
              "      <td>Boston Celtics</td>\n",
              "      <td>8.0</td>\n",
              "      <td>PF</td>\n",
              "      <td>29.0</td>\n",
              "      <td>6-10</td>\n",
              "      <td>231.0</td>\n",
              "      <td>NaN</td>\n",
              "      <td>5000000.0</td>\n",
              "    </tr>\n",
              "    <tr>\n",
              "      <th>5</th>\n",
              "      <td>Amir Johnson</td>\n",
              "      <td>Boston Celtics</td>\n",
              "      <td>90.0</td>\n",
              "      <td>PF</td>\n",
              "      <td>29.0</td>\n",
              "      <td>6-9</td>\n",
              "      <td>240.0</td>\n",
              "      <td>NaN</td>\n",
              "      <td>12000000.0</td>\n",
              "    </tr>\n",
              "    <tr>\n",
              "      <th>6</th>\n",
              "      <td>Jordan Mickey</td>\n",
              "      <td>Boston Celtics</td>\n",
              "      <td>55.0</td>\n",
              "      <td>PF</td>\n",
              "      <td>21.0</td>\n",
              "      <td>6-8</td>\n",
              "      <td>235.0</td>\n",
              "      <td>LSU</td>\n",
              "      <td>1170960.0</td>\n",
              "    </tr>\n",
              "    <tr>\n",
              "      <th>7</th>\n",
              "      <td>Kelly Olynyk</td>\n",
              "      <td>Boston Celtics</td>\n",
              "      <td>41.0</td>\n",
              "      <td>C</td>\n",
              "      <td>25.0</td>\n",
              "      <td>7-0</td>\n",
              "      <td>238.0</td>\n",
              "      <td>Gonzaga</td>\n",
              "      <td>2165160.0</td>\n",
              "    </tr>\n",
              "    <tr>\n",
              "      <th>8</th>\n",
              "      <td>Terry Rozier</td>\n",
              "      <td>Boston Celtics</td>\n",
              "      <td>12.0</td>\n",
              "      <td>PG</td>\n",
              "      <td>22.0</td>\n",
              "      <td>6-2</td>\n",
              "      <td>190.0</td>\n",
              "      <td>Louisville</td>\n",
              "      <td>1824360.0</td>\n",
              "    </tr>\n",
              "    <tr>\n",
              "      <th>9</th>\n",
              "      <td>Marcus Smart</td>\n",
              "      <td>Boston Celtics</td>\n",
              "      <td>36.0</td>\n",
              "      <td>PG</td>\n",
              "      <td>22.0</td>\n",
              "      <td>6-4</td>\n",
              "      <td>220.0</td>\n",
              "      <td>Oklahoma State</td>\n",
              "      <td>3431040.0</td>\n",
              "    </tr>\n",
              "  </tbody>\n",
              "</table>\n",
              "</div>"
            ],
            "text/plain": [
              "            Name            Team  Number  ... Weight            College      Salary\n",
              "0  Avery Bradley  Boston Celtics     0.0  ...  180.0              Texas   7730337.0\n",
              "1    Jae Crowder  Boston Celtics    99.0  ...  235.0          Marquette   6796117.0\n",
              "2   John Holland  Boston Celtics    30.0  ...  205.0  Boston University         NaN\n",
              "3    R.J. Hunter  Boston Celtics    28.0  ...  185.0      Georgia State   1148640.0\n",
              "4  Jonas Jerebko  Boston Celtics     8.0  ...  231.0                NaN   5000000.0\n",
              "5   Amir Johnson  Boston Celtics    90.0  ...  240.0                NaN  12000000.0\n",
              "6  Jordan Mickey  Boston Celtics    55.0  ...  235.0                LSU   1170960.0\n",
              "7   Kelly Olynyk  Boston Celtics    41.0  ...  238.0            Gonzaga   2165160.0\n",
              "8   Terry Rozier  Boston Celtics    12.0  ...  190.0         Louisville   1824360.0\n",
              "9   Marcus Smart  Boston Celtics    36.0  ...  220.0     Oklahoma State   3431040.0\n",
              "\n",
              "[10 rows x 9 columns]"
            ]
          },
          "metadata": {},
          "execution_count": 17
        }
      ]
    },
    {
      "cell_type": "code",
      "metadata": {
        "colab": {
          "base_uri": "https://localhost:8080/",
          "height": 295
        },
        "id": "1DHKKNGkhdvR",
        "outputId": "570bbd8e-548b-43c4-af57-655d2759e270"
      },
      "source": [
        "# removing null values to avoid errors \n",
        "data.dropna(inplace = True) \n",
        "# calling describe method\n",
        "data.describe()"
      ],
      "execution_count": 18,
      "outputs": [
        {
          "output_type": "execute_result",
          "data": {
            "text/html": [
              "<div>\n",
              "<style scoped>\n",
              "    .dataframe tbody tr th:only-of-type {\n",
              "        vertical-align: middle;\n",
              "    }\n",
              "\n",
              "    .dataframe tbody tr th {\n",
              "        vertical-align: top;\n",
              "    }\n",
              "\n",
              "    .dataframe thead th {\n",
              "        text-align: right;\n",
              "    }\n",
              "</style>\n",
              "<table border=\"1\" class=\"dataframe\">\n",
              "  <thead>\n",
              "    <tr style=\"text-align: right;\">\n",
              "      <th></th>\n",
              "      <th>Number</th>\n",
              "      <th>Age</th>\n",
              "      <th>Weight</th>\n",
              "      <th>Salary</th>\n",
              "    </tr>\n",
              "  </thead>\n",
              "  <tbody>\n",
              "    <tr>\n",
              "      <th>count</th>\n",
              "      <td>364.000000</td>\n",
              "      <td>364.000000</td>\n",
              "      <td>364.000000</td>\n",
              "      <td>3.640000e+02</td>\n",
              "    </tr>\n",
              "    <tr>\n",
              "      <th>mean</th>\n",
              "      <td>16.829670</td>\n",
              "      <td>26.615385</td>\n",
              "      <td>219.785714</td>\n",
              "      <td>4.620311e+06</td>\n",
              "    </tr>\n",
              "    <tr>\n",
              "      <th>std</th>\n",
              "      <td>14.994162</td>\n",
              "      <td>4.233591</td>\n",
              "      <td>24.793099</td>\n",
              "      <td>5.119716e+06</td>\n",
              "    </tr>\n",
              "    <tr>\n",
              "      <th>min</th>\n",
              "      <td>0.000000</td>\n",
              "      <td>19.000000</td>\n",
              "      <td>161.000000</td>\n",
              "      <td>5.572200e+04</td>\n",
              "    </tr>\n",
              "    <tr>\n",
              "      <th>25%</th>\n",
              "      <td>5.000000</td>\n",
              "      <td>24.000000</td>\n",
              "      <td>200.000000</td>\n",
              "      <td>1.000000e+06</td>\n",
              "    </tr>\n",
              "    <tr>\n",
              "      <th>50%</th>\n",
              "      <td>12.000000</td>\n",
              "      <td>26.000000</td>\n",
              "      <td>220.000000</td>\n",
              "      <td>2.515440e+06</td>\n",
              "    </tr>\n",
              "    <tr>\n",
              "      <th>75%</th>\n",
              "      <td>25.000000</td>\n",
              "      <td>29.000000</td>\n",
              "      <td>240.000000</td>\n",
              "      <td>6.149694e+06</td>\n",
              "    </tr>\n",
              "    <tr>\n",
              "      <th>max</th>\n",
              "      <td>99.000000</td>\n",
              "      <td>40.000000</td>\n",
              "      <td>279.000000</td>\n",
              "      <td>2.287500e+07</td>\n",
              "    </tr>\n",
              "  </tbody>\n",
              "</table>\n",
              "</div>"
            ],
            "text/plain": [
              "           Number         Age      Weight        Salary\n",
              "count  364.000000  364.000000  364.000000  3.640000e+02\n",
              "mean    16.829670   26.615385  219.785714  4.620311e+06\n",
              "std     14.994162    4.233591   24.793099  5.119716e+06\n",
              "min      0.000000   19.000000  161.000000  5.572200e+04\n",
              "25%      5.000000   24.000000  200.000000  1.000000e+06\n",
              "50%     12.000000   26.000000  220.000000  2.515440e+06\n",
              "75%     25.000000   29.000000  240.000000  6.149694e+06\n",
              "max     99.000000   40.000000  279.000000  2.287500e+07"
            ]
          },
          "metadata": {},
          "execution_count": 18
        }
      ]
    },
    {
      "cell_type": "code",
      "metadata": {
        "colab": {
          "base_uri": "https://localhost:8080/"
        },
        "id": "YdglqrdUdgnL",
        "outputId": "48669553-bbeb-4f6b-eca9-a47251b2fc93"
      },
      "source": [
        "# calling describe method\n",
        "desc = data[\"Name\"].describe()\n",
        "  \n",
        "# display\n",
        "desc"
      ],
      "execution_count": 19,
      "outputs": [
        {
          "output_type": "execute_result",
          "data": {
            "text/plain": [
              "count               364\n",
              "unique              364\n",
              "top       Austin Rivers\n",
              "freq                  1\n",
              "Name: Name, dtype: object"
            ]
          },
          "metadata": {},
          "execution_count": 19
        }
      ]
    },
    {
      "cell_type": "markdown",
      "metadata": {
        "id": "co5tSavMjA0W"
      },
      "source": [
        "##Column Addition:\n",
        "In Order to add a column in Pandas DataFrame, we can declare a new list as a column and add to a existing Dataframe."
      ]
    },
    {
      "cell_type": "code",
      "metadata": {
        "colab": {
          "base_uri": "https://localhost:8080/"
        },
        "id": "EQiRgFDbdglR",
        "outputId": "61d481a6-98d3-4c38-fe0d-0c4eb35bc31c"
      },
      "source": [
        "# Define a dictionary containing Students data\n",
        "data = {'Name': ['Jai', 'Vishu', 'Gaurav', 'Anuj'],\n",
        "        'Height': [5.1, 6.2, 5.1, 5.2],\n",
        "        'Qualification': ['Msc', 'MA', 'Msc', 'Msc']}\n",
        "  \n",
        "# Convert the dictionary into DataFrame\n",
        "df = pd.DataFrame(data)\n",
        "  \n",
        "print(df)"
      ],
      "execution_count": 20,
      "outputs": [
        {
          "output_type": "stream",
          "name": "stdout",
          "text": [
            "     Name  Height Qualification\n",
            "0     Jai     5.1           Msc\n",
            "1   Vishu     6.2            MA\n",
            "2  Gaurav     5.1           Msc\n",
            "3    Anuj     5.2           Msc\n"
          ]
        }
      ]
    },
    {
      "cell_type": "code",
      "metadata": {
        "colab": {
          "base_uri": "https://localhost:8080/"
        },
        "id": "mlEqnag-dgix",
        "outputId": "9e97b2f9-7142-4772-8a5d-f71b9a3610d1"
      },
      "source": [
        "# Declare a list that is to be converted into a column\n",
        "address = ['Delhi', 'Bangalore', 'Chennai', 'Patna']\n",
        "  \n",
        "# Using 'Address' as the column name\n",
        "# and equating it to the list\n",
        "df['Address'] = address\n",
        "  \n",
        "# Observe the result\n",
        "print(df)"
      ],
      "execution_count": 21,
      "outputs": [
        {
          "output_type": "stream",
          "name": "stdout",
          "text": [
            "     Name  Height Qualification    Address\n",
            "0     Jai     5.1           Msc      Delhi\n",
            "1   Vishu     6.2            MA  Bangalore\n",
            "2  Gaurav     5.1           Msc    Chennai\n",
            "3    Anuj     5.2           Msc      Patna\n"
          ]
        }
      ]
    },
    {
      "cell_type": "markdown",
      "metadata": {
        "id": "5YUU_a6pjbQy"
      },
      "source": [
        "##Column Deletion:\n",
        "In Order to delete a column in Pandas DataFrame, we can use the drop() method. Columns is deleted by dropping columns with column names."
      ]
    },
    {
      "cell_type": "code",
      "metadata": {
        "colab": {
          "base_uri": "https://localhost:8080/"
        },
        "id": "uc0lLxuldgg2",
        "outputId": "14726e79-3764-4684-e2cf-7e4c7eca9440"
      },
      "source": [
        "print(df)"
      ],
      "execution_count": 22,
      "outputs": [
        {
          "output_type": "stream",
          "name": "stdout",
          "text": [
            "     Name  Height Qualification    Address\n",
            "0     Jai     5.1           Msc      Delhi\n",
            "1   Vishu     6.2            MA  Bangalore\n",
            "2  Gaurav     5.1           Msc    Chennai\n",
            "3    Anuj     5.2           Msc      Patna\n"
          ]
        }
      ]
    },
    {
      "cell_type": "code",
      "metadata": {
        "colab": {
          "base_uri": "https://localhost:8080/"
        },
        "id": "gUtAlO6ydgfJ",
        "outputId": "93a22afe-e6ff-4003-e11b-150e9e72b90b"
      },
      "source": [
        "df.drop(columns=[\"Height\"],axis=1,inplace=True)  #Drop Height Column\n",
        "print(df)"
      ],
      "execution_count": 23,
      "outputs": [
        {
          "output_type": "stream",
          "name": "stdout",
          "text": [
            "     Name Qualification    Address\n",
            "0     Jai           Msc      Delhi\n",
            "1   Vishu            MA  Bangalore\n",
            "2  Gaurav           Msc    Chennai\n",
            "3    Anuj           Msc      Patna\n"
          ]
        }
      ]
    },
    {
      "cell_type": "markdown",
      "metadata": {
        "id": "IlRPJyInkNOh"
      },
      "source": [
        "###Row Addition:\n",
        "In Order to add a Row in Pandas DataFrame, we can concat the old dataframe with new one."
      ]
    },
    {
      "cell_type": "code",
      "metadata": {
        "colab": {
          "base_uri": "https://localhost:8080/"
        },
        "id": "YV-lroI8dgdY",
        "outputId": "02c60e62-b7d7-4d3b-f232-32a00d7e718a"
      },
      "source": [
        "print(df)"
      ],
      "execution_count": 24,
      "outputs": [
        {
          "output_type": "stream",
          "name": "stdout",
          "text": [
            "     Name Qualification    Address\n",
            "0     Jai           Msc      Delhi\n",
            "1   Vishu            MA  Bangalore\n",
            "2  Gaurav           Msc    Chennai\n",
            "3    Anuj           Msc      Patna\n"
          ]
        }
      ]
    },
    {
      "cell_type": "code",
      "metadata": {
        "colab": {
          "base_uri": "https://localhost:8080/"
        },
        "id": "MYHcwXyXkR7m",
        "outputId": "cfc9357b-116e-4152-b22b-0c2b32cae0ad"
      },
      "source": [
        "new_row = pd.DataFrame({\"Name\":\"Akash\",\n",
        "                        \"Qualification\":\"Btech\",\n",
        "                        \"Address\":\"Satara\"},\n",
        "                       index=[0])\n",
        "df = pd.concat([new_row , df])\n",
        "print(df)"
      ],
      "execution_count": 25,
      "outputs": [
        {
          "output_type": "stream",
          "name": "stdout",
          "text": [
            "     Name Qualification    Address\n",
            "0   Akash         Btech     Satara\n",
            "0     Jai           Msc      Delhi\n",
            "1   Vishu            MA  Bangalore\n",
            "2  Gaurav           Msc    Chennai\n",
            "3    Anuj           Msc      Patna\n"
          ]
        }
      ]
    },
    {
      "cell_type": "code",
      "metadata": {
        "colab": {
          "base_uri": "https://localhost:8080/"
        },
        "id": "lMizq5pbk86R",
        "outputId": "718666ba-494d-4b33-8aac-d3873f7dac94"
      },
      "source": [
        "new_row = pd.DataFrame({\"Name\":\"Aniket\",\n",
        "                        \"Qualification\":\"Mtech\",\n",
        "                        \"Address\":\"Karad\"},\n",
        "                       index=[0])\n",
        "df = pd.concat([new_row , df]).reset_index(drop=True)\n",
        "print(df)"
      ],
      "execution_count": 26,
      "outputs": [
        {
          "output_type": "stream",
          "name": "stdout",
          "text": [
            "     Name Qualification    Address\n",
            "0  Aniket         Mtech      Karad\n",
            "1   Akash         Btech     Satara\n",
            "2     Jai           Msc      Delhi\n",
            "3   Vishu            MA  Bangalore\n",
            "4  Gaurav           Msc    Chennai\n",
            "5    Anuj           Msc      Patna\n"
          ]
        }
      ]
    },
    {
      "cell_type": "markdown",
      "metadata": {
        "id": "k72v60ggmlbF"
      },
      "source": [
        "###Row Deletion:\n",
        "In Order to delete a row in Pandas DataFrame, we can use the drop() method. Rows is deleted by dropping Rows by index label."
      ]
    },
    {
      "cell_type": "code",
      "metadata": {
        "colab": {
          "base_uri": "https://localhost:8080/"
        },
        "id": "gshoPPlNmL1D",
        "outputId": "83d84dd3-03f5-4691-c588-09812325f74a"
      },
      "source": [
        "print(df)"
      ],
      "execution_count": 27,
      "outputs": [
        {
          "output_type": "stream",
          "name": "stdout",
          "text": [
            "     Name Qualification    Address\n",
            "0  Aniket         Mtech      Karad\n",
            "1   Akash         Btech     Satara\n",
            "2     Jai           Msc      Delhi\n",
            "3   Vishu            MA  Bangalore\n",
            "4  Gaurav           Msc    Chennai\n",
            "5    Anuj           Msc      Patna\n"
          ]
        }
      ]
    },
    {
      "cell_type": "code",
      "metadata": {
        "id": "Zc2M4YSrmoT1"
      },
      "source": [
        "df.drop([3,5],inplace=True,axis=0)"
      ],
      "execution_count": 28,
      "outputs": []
    },
    {
      "cell_type": "code",
      "metadata": {
        "colab": {
          "base_uri": "https://localhost:8080/",
          "height": 172
        },
        "id": "MicvdDB5m1K_",
        "outputId": "88d63f45-e3a3-4b65-f216-e7d97fa3aa5d"
      },
      "source": [
        "df"
      ],
      "execution_count": 29,
      "outputs": [
        {
          "output_type": "execute_result",
          "data": {
            "text/html": [
              "<div>\n",
              "<style scoped>\n",
              "    .dataframe tbody tr th:only-of-type {\n",
              "        vertical-align: middle;\n",
              "    }\n",
              "\n",
              "    .dataframe tbody tr th {\n",
              "        vertical-align: top;\n",
              "    }\n",
              "\n",
              "    .dataframe thead th {\n",
              "        text-align: right;\n",
              "    }\n",
              "</style>\n",
              "<table border=\"1\" class=\"dataframe\">\n",
              "  <thead>\n",
              "    <tr style=\"text-align: right;\">\n",
              "      <th></th>\n",
              "      <th>Name</th>\n",
              "      <th>Qualification</th>\n",
              "      <th>Address</th>\n",
              "    </tr>\n",
              "  </thead>\n",
              "  <tbody>\n",
              "    <tr>\n",
              "      <th>0</th>\n",
              "      <td>Aniket</td>\n",
              "      <td>Mtech</td>\n",
              "      <td>Karad</td>\n",
              "    </tr>\n",
              "    <tr>\n",
              "      <th>1</th>\n",
              "      <td>Akash</td>\n",
              "      <td>Btech</td>\n",
              "      <td>Satara</td>\n",
              "    </tr>\n",
              "    <tr>\n",
              "      <th>2</th>\n",
              "      <td>Jai</td>\n",
              "      <td>Msc</td>\n",
              "      <td>Delhi</td>\n",
              "    </tr>\n",
              "    <tr>\n",
              "      <th>4</th>\n",
              "      <td>Gaurav</td>\n",
              "      <td>Msc</td>\n",
              "      <td>Chennai</td>\n",
              "    </tr>\n",
              "  </tbody>\n",
              "</table>\n",
              "</div>"
            ],
            "text/plain": [
              "     Name Qualification  Address\n",
              "0  Aniket         Mtech    Karad\n",
              "1   Akash         Btech   Satara\n",
              "2     Jai           Msc    Delhi\n",
              "4  Gaurav           Msc  Chennai"
            ]
          },
          "metadata": {},
          "execution_count": 29
        }
      ]
    },
    {
      "cell_type": "markdown",
      "metadata": {
        "id": "fl6IZGoRst1E"
      },
      "source": [
        " Extracting rows "
      ]
    },
    {
      "cell_type": "code",
      "metadata": {
        "colab": {
          "base_uri": "https://localhost:8080/"
        },
        "id": "K83k1SYqnzE1",
        "outputId": "7b2d5b9b-b064-4d02-efa3-89c70d32d42b"
      },
      "source": [
        "print(df)"
      ],
      "execution_count": 30,
      "outputs": [
        {
          "output_type": "stream",
          "name": "stdout",
          "text": [
            "     Name Qualification  Address\n",
            "0  Aniket         Mtech    Karad\n",
            "1   Akash         Btech   Satara\n",
            "2     Jai           Msc    Delhi\n",
            "4  Gaurav           Msc  Chennai\n"
          ]
        }
      ]
    },
    {
      "cell_type": "code",
      "metadata": {
        "colab": {
          "base_uri": "https://localhost:8080/",
          "height": 142
        },
        "id": "Z3GjclzAsw9I",
        "outputId": "e24fcd09-2dbd-45b0-adee-1ae4878b91ea"
      },
      "source": [
        "row = df.iloc[1:4]\n",
        "row"
      ],
      "execution_count": 31,
      "outputs": [
        {
          "output_type": "execute_result",
          "data": {
            "text/html": [
              "<div>\n",
              "<style scoped>\n",
              "    .dataframe tbody tr th:only-of-type {\n",
              "        vertical-align: middle;\n",
              "    }\n",
              "\n",
              "    .dataframe tbody tr th {\n",
              "        vertical-align: top;\n",
              "    }\n",
              "\n",
              "    .dataframe thead th {\n",
              "        text-align: right;\n",
              "    }\n",
              "</style>\n",
              "<table border=\"1\" class=\"dataframe\">\n",
              "  <thead>\n",
              "    <tr style=\"text-align: right;\">\n",
              "      <th></th>\n",
              "      <th>Name</th>\n",
              "      <th>Qualification</th>\n",
              "      <th>Address</th>\n",
              "    </tr>\n",
              "  </thead>\n",
              "  <tbody>\n",
              "    <tr>\n",
              "      <th>1</th>\n",
              "      <td>Akash</td>\n",
              "      <td>Btech</td>\n",
              "      <td>Satara</td>\n",
              "    </tr>\n",
              "    <tr>\n",
              "      <th>2</th>\n",
              "      <td>Jai</td>\n",
              "      <td>Msc</td>\n",
              "      <td>Delhi</td>\n",
              "    </tr>\n",
              "    <tr>\n",
              "      <th>4</th>\n",
              "      <td>Gaurav</td>\n",
              "      <td>Msc</td>\n",
              "      <td>Chennai</td>\n",
              "    </tr>\n",
              "  </tbody>\n",
              "</table>\n",
              "</div>"
            ],
            "text/plain": [
              "     Name Qualification  Address\n",
              "1   Akash         Btech   Satara\n",
              "2     Jai           Msc    Delhi\n",
              "4  Gaurav           Msc  Chennai"
            ]
          },
          "metadata": {},
          "execution_count": 31
        }
      ]
    },
    {
      "cell_type": "markdown",
      "metadata": {
        "id": "T-CSjhL5d5To"
      },
      "source": [
        "##GroupBy\n",
        "\n",
        "Groupby is a pretty simple concept. We can create a grouping of categories and apply a function to the categories\n",
        "\n"
      ]
    },
    {
      "cell_type": "markdown",
      "metadata": {
        "id": "8Njy4PMjeSkV"
      },
      "source": [
        "In order to split the data, we use groupby() function this function is used to split the data into groups based on some criteria."
      ]
    },
    {
      "cell_type": "markdown",
      "metadata": {
        "id": "hWwakSmqeV0j"
      },
      "source": [
        ">obj.groupby(key)\n",
        "\n",
        ">obj.groupby(key, axis=1)\n",
        "\n",
        ">obj.groupby([key1, key2])"
      ]
    },
    {
      "cell_type": "markdown",
      "metadata": {
        "id": "vpoU9JnveqoU"
      },
      "source": [
        "---\n",
        "Grouping data with one key:"
      ]
    },
    {
      "cell_type": "code",
      "metadata": {
        "id": "m578-E73tDWg",
        "colab": {
          "base_uri": "https://localhost:8080/"
        },
        "outputId": "85c455c9-d245-4d26-fc24-61188ec344d2"
      },
      "source": [
        "# importing pandas module\n",
        "import pandas as pd \n",
        "   \n",
        "# Define a dictionary containing employee data \n",
        "data1 = {'Name':['Jai', 'Anuj', 'Jai', 'Princi', \n",
        "                 'Gaurav', 'Anuj', 'Princi', 'Abhi'], \n",
        "        'Age':[27, 24, 22, 32, \n",
        "               33, 36, 27, 32], \n",
        "        'Address':['Nagpur', 'Kanpur', 'Allahabad', 'Kannuaj',\n",
        "                   'Jaunpur', 'Kanpur', 'Allahabad', 'Aligarh'], \n",
        "        'Qualification':['Msc', 'MA', 'MCA', 'Phd',\n",
        "                         'B.Tech', 'B.com', 'Msc', 'MA']} \n",
        "     \n",
        "   \n",
        "# Convert the dictionary into DataFrame  \n",
        "df = pd.DataFrame(data1)\n",
        "   \n",
        "print(df) "
      ],
      "execution_count": 32,
      "outputs": [
        {
          "output_type": "stream",
          "name": "stdout",
          "text": [
            "     Name  Age    Address Qualification\n",
            "0     Jai   27     Nagpur           Msc\n",
            "1    Anuj   24     Kanpur            MA\n",
            "2     Jai   22  Allahabad           MCA\n",
            "3  Princi   32    Kannuaj           Phd\n",
            "4  Gaurav   33    Jaunpur        B.Tech\n",
            "5    Anuj   36     Kanpur         B.com\n",
            "6  Princi   27  Allahabad           Msc\n",
            "7    Abhi   32    Aligarh            MA\n"
          ]
        }
      ]
    },
    {
      "cell_type": "code",
      "metadata": {
        "colab": {
          "base_uri": "https://localhost:8080/"
        },
        "id": "mkHej3QbeyQj",
        "outputId": "8e7467b6-4c35-4648-95f2-ead9bba54268"
      },
      "source": [
        "#Using groupby Function\n",
        "print(df.groupby(\"Name\").groups)"
      ],
      "execution_count": 33,
      "outputs": [
        {
          "output_type": "stream",
          "name": "stdout",
          "text": [
            "{'Abhi': [7], 'Anuj': [1, 5], 'Gaurav': [4], 'Jai': [0, 2], 'Princi': [3, 6]}\n"
          ]
        }
      ]
    },
    {
      "cell_type": "code",
      "metadata": {
        "colab": {
          "base_uri": "https://localhost:8080/"
        },
        "id": "OfwRY6T6e8Uo",
        "outputId": "9c616172-4236-4bea-ed2d-adf797217832"
      },
      "source": [
        "print(df.groupby(\"Address\").groups)"
      ],
      "execution_count": 34,
      "outputs": [
        {
          "output_type": "stream",
          "name": "stdout",
          "text": [
            "{'Aligarh': [7], 'Allahabad': [2, 6], 'Jaunpur': [4], 'Kannuaj': [3], 'Kanpur': [1, 5], 'Nagpur': [0]}\n"
          ]
        }
      ]
    },
    {
      "cell_type": "markdown",
      "metadata": {
        "id": "j6mWxW0ffaHk"
      },
      "source": [
        "Now we print the first entries in all the groups formed."
      ]
    },
    {
      "cell_type": "code",
      "metadata": {
        "colab": {
          "base_uri": "https://localhost:8080/",
          "height": 234
        },
        "id": "JK5sI3bbfTg5",
        "outputId": "74dcdb53-ed2a-42b4-e257-d71d5136d51f"
      },
      "source": [
        "first_entry = df.groupby(\"Name\")\n",
        "first_entry.first()"
      ],
      "execution_count": 35,
      "outputs": [
        {
          "output_type": "execute_result",
          "data": {
            "text/html": [
              "<div>\n",
              "<style scoped>\n",
              "    .dataframe tbody tr th:only-of-type {\n",
              "        vertical-align: middle;\n",
              "    }\n",
              "\n",
              "    .dataframe tbody tr th {\n",
              "        vertical-align: top;\n",
              "    }\n",
              "\n",
              "    .dataframe thead th {\n",
              "        text-align: right;\n",
              "    }\n",
              "</style>\n",
              "<table border=\"1\" class=\"dataframe\">\n",
              "  <thead>\n",
              "    <tr style=\"text-align: right;\">\n",
              "      <th></th>\n",
              "      <th>Age</th>\n",
              "      <th>Address</th>\n",
              "      <th>Qualification</th>\n",
              "    </tr>\n",
              "    <tr>\n",
              "      <th>Name</th>\n",
              "      <th></th>\n",
              "      <th></th>\n",
              "      <th></th>\n",
              "    </tr>\n",
              "  </thead>\n",
              "  <tbody>\n",
              "    <tr>\n",
              "      <th>Abhi</th>\n",
              "      <td>32</td>\n",
              "      <td>Aligarh</td>\n",
              "      <td>MA</td>\n",
              "    </tr>\n",
              "    <tr>\n",
              "      <th>Anuj</th>\n",
              "      <td>24</td>\n",
              "      <td>Kanpur</td>\n",
              "      <td>MA</td>\n",
              "    </tr>\n",
              "    <tr>\n",
              "      <th>Gaurav</th>\n",
              "      <td>33</td>\n",
              "      <td>Jaunpur</td>\n",
              "      <td>B.Tech</td>\n",
              "    </tr>\n",
              "    <tr>\n",
              "      <th>Jai</th>\n",
              "      <td>27</td>\n",
              "      <td>Nagpur</td>\n",
              "      <td>Msc</td>\n",
              "    </tr>\n",
              "    <tr>\n",
              "      <th>Princi</th>\n",
              "      <td>32</td>\n",
              "      <td>Kannuaj</td>\n",
              "      <td>Phd</td>\n",
              "    </tr>\n",
              "  </tbody>\n",
              "</table>\n",
              "</div>"
            ],
            "text/plain": [
              "        Age  Address Qualification\n",
              "Name                              \n",
              "Abhi     32  Aligarh            MA\n",
              "Anuj     24   Kanpur            MA\n",
              "Gaurav   33  Jaunpur        B.Tech\n",
              "Jai      27   Nagpur           Msc\n",
              "Princi   32  Kannuaj           Phd"
            ]
          },
          "metadata": {},
          "execution_count": 35
        }
      ]
    },
    {
      "cell_type": "markdown",
      "metadata": {
        "id": "DdgcMvq8f1XQ"
      },
      "source": [
        "Grouping data with multiple keys :\n",
        "\n",
        "In order to group data with multiple keys, we pass multiple keys in groupby function."
      ]
    },
    {
      "cell_type": "code",
      "metadata": {
        "colab": {
          "base_uri": "https://localhost:8080/"
        },
        "id": "cuT6MB_uflYa",
        "outputId": "28180daf-a5a3-49b5-aa43-9912f4b7ca4a"
      },
      "source": [
        "#Define a dictionary containing employee data \n",
        "data1 = {'Name':['Jai', 'Anuj', 'Jai', 'Princi', \n",
        "                 'Gaurav', 'Anuj', 'Princi', 'Abhi'], \n",
        "        'Age':[27, 24, 22, 32, \n",
        "               33, 36, 27, 32], \n",
        "        'Address':['Nagpur', 'Kanpur', 'Allahabad', 'Kannuaj',\n",
        "                   'Jaunpur', 'Kanpur', 'Allahabad', 'Aligarh'], \n",
        "        'Qualification':['Msc', 'MA', 'MCA', 'Phd',\n",
        "                         'B.Tech', 'B.com', 'Msc', 'MA']} \n",
        "     \n",
        "   \n",
        "# Convert the dictionary into DataFrame  \n",
        "df = pd.DataFrame(data1)\n",
        "   \n",
        "print(df) "
      ],
      "execution_count": 36,
      "outputs": [
        {
          "output_type": "stream",
          "name": "stdout",
          "text": [
            "     Name  Age    Address Qualification\n",
            "0     Jai   27     Nagpur           Msc\n",
            "1    Anuj   24     Kanpur            MA\n",
            "2     Jai   22  Allahabad           MCA\n",
            "3  Princi   32    Kannuaj           Phd\n",
            "4  Gaurav   33    Jaunpur        B.Tech\n",
            "5    Anuj   36     Kanpur         B.com\n",
            "6  Princi   27  Allahabad           Msc\n",
            "7    Abhi   32    Aligarh            MA\n"
          ]
        }
      ]
    },
    {
      "cell_type": "code",
      "metadata": {
        "colab": {
          "base_uri": "https://localhost:8080/"
        },
        "id": "PJomw8mefqVT",
        "outputId": "6c9bcb04-1a0e-433a-8fbb-0843b8642a5c"
      },
      "source": [
        "#using multiple keys in \n",
        "#groupby() function\n",
        "df.groupby([\"Name\",\"Qualification\"])\n",
        "print(df.groupby([\"Name\",\"Qualification\"]).groups)"
      ],
      "execution_count": 37,
      "outputs": [
        {
          "output_type": "stream",
          "name": "stdout",
          "text": [
            "{('Abhi', 'MA'): [7], ('Anuj', 'B.com'): [5], ('Anuj', 'MA'): [1], ('Gaurav', 'B.Tech'): [4], ('Jai', 'MCA'): [2], ('Jai', 'Msc'): [0], ('Princi', 'Msc'): [6], ('Princi', 'Phd'): [3]}\n"
          ]
        }
      ]
    },
    {
      "cell_type": "code",
      "metadata": {
        "colab": {
          "base_uri": "https://localhost:8080/",
          "height": 234
        },
        "id": "vhiiGQwMgaF-",
        "outputId": "08909b2a-f281-4357-fe1e-1d94bcf67f48"
      },
      "source": [
        "# using groupby function\n",
        "# sum function\n",
        "  \n",
        "df.groupby(['Name']).sum()"
      ],
      "execution_count": 38,
      "outputs": [
        {
          "output_type": "execute_result",
          "data": {
            "text/html": [
              "<div>\n",
              "<style scoped>\n",
              "    .dataframe tbody tr th:only-of-type {\n",
              "        vertical-align: middle;\n",
              "    }\n",
              "\n",
              "    .dataframe tbody tr th {\n",
              "        vertical-align: top;\n",
              "    }\n",
              "\n",
              "    .dataframe thead th {\n",
              "        text-align: right;\n",
              "    }\n",
              "</style>\n",
              "<table border=\"1\" class=\"dataframe\">\n",
              "  <thead>\n",
              "    <tr style=\"text-align: right;\">\n",
              "      <th></th>\n",
              "      <th>Age</th>\n",
              "    </tr>\n",
              "    <tr>\n",
              "      <th>Name</th>\n",
              "      <th></th>\n",
              "    </tr>\n",
              "  </thead>\n",
              "  <tbody>\n",
              "    <tr>\n",
              "      <th>Abhi</th>\n",
              "      <td>32</td>\n",
              "    </tr>\n",
              "    <tr>\n",
              "      <th>Anuj</th>\n",
              "      <td>60</td>\n",
              "    </tr>\n",
              "    <tr>\n",
              "      <th>Gaurav</th>\n",
              "      <td>33</td>\n",
              "    </tr>\n",
              "    <tr>\n",
              "      <th>Jai</th>\n",
              "      <td>49</td>\n",
              "    </tr>\n",
              "    <tr>\n",
              "      <th>Princi</th>\n",
              "      <td>59</td>\n",
              "    </tr>\n",
              "  </tbody>\n",
              "</table>\n",
              "</div>"
            ],
            "text/plain": [
              "        Age\n",
              "Name       \n",
              "Abhi     32\n",
              "Anuj     60\n",
              "Gaurav   33\n",
              "Jai      49\n",
              "Princi   59"
            ]
          },
          "metadata": {},
          "execution_count": 38
        }
      ]
    },
    {
      "cell_type": "code",
      "metadata": {
        "colab": {
          "base_uri": "https://localhost:8080/",
          "height": 234
        },
        "id": "voAgaSARgl4B",
        "outputId": "73f5365e-ec9a-4a0d-ed4b-b57795129403"
      },
      "source": [
        "# using groupby function\n",
        "# with sort\n",
        "  \n",
        "df.groupby(['Name'], sort = False).sum()"
      ],
      "execution_count": 39,
      "outputs": [
        {
          "output_type": "execute_result",
          "data": {
            "text/html": [
              "<div>\n",
              "<style scoped>\n",
              "    .dataframe tbody tr th:only-of-type {\n",
              "        vertical-align: middle;\n",
              "    }\n",
              "\n",
              "    .dataframe tbody tr th {\n",
              "        vertical-align: top;\n",
              "    }\n",
              "\n",
              "    .dataframe thead th {\n",
              "        text-align: right;\n",
              "    }\n",
              "</style>\n",
              "<table border=\"1\" class=\"dataframe\">\n",
              "  <thead>\n",
              "    <tr style=\"text-align: right;\">\n",
              "      <th></th>\n",
              "      <th>Age</th>\n",
              "    </tr>\n",
              "    <tr>\n",
              "      <th>Name</th>\n",
              "      <th></th>\n",
              "    </tr>\n",
              "  </thead>\n",
              "  <tbody>\n",
              "    <tr>\n",
              "      <th>Jai</th>\n",
              "      <td>49</td>\n",
              "    </tr>\n",
              "    <tr>\n",
              "      <th>Anuj</th>\n",
              "      <td>60</td>\n",
              "    </tr>\n",
              "    <tr>\n",
              "      <th>Princi</th>\n",
              "      <td>59</td>\n",
              "    </tr>\n",
              "    <tr>\n",
              "      <th>Gaurav</th>\n",
              "      <td>33</td>\n",
              "    </tr>\n",
              "    <tr>\n",
              "      <th>Abhi</th>\n",
              "      <td>32</td>\n",
              "    </tr>\n",
              "  </tbody>\n",
              "</table>\n",
              "</div>"
            ],
            "text/plain": [
              "        Age\n",
              "Name       \n",
              "Jai      49\n",
              "Anuj     60\n",
              "Princi   59\n",
              "Gaurav   33\n",
              "Abhi     32"
            ]
          },
          "metadata": {},
          "execution_count": 39
        }
      ]
    },
    {
      "cell_type": "code",
      "metadata": {
        "colab": {
          "base_uri": "https://localhost:8080/"
        },
        "id": "_PiluxeXguCU",
        "outputId": "8cdabc99-f840-4edf-fa4f-3bb1656a593e"
      },
      "source": [
        "# iterating an element\n",
        "# of group\n",
        "  \n",
        "grp = df.groupby('Name')\n",
        "for name, group in grp:\n",
        "    print(name)\n",
        "    print(group)\n",
        "    print()"
      ],
      "execution_count": 40,
      "outputs": [
        {
          "output_type": "stream",
          "name": "stdout",
          "text": [
            "Abhi\n",
            "   Name  Age  Address Qualification\n",
            "7  Abhi   32  Aligarh            MA\n",
            "\n",
            "Anuj\n",
            "   Name  Age Address Qualification\n",
            "1  Anuj   24  Kanpur            MA\n",
            "5  Anuj   36  Kanpur         B.com\n",
            "\n",
            "Gaurav\n",
            "     Name  Age  Address Qualification\n",
            "4  Gaurav   33  Jaunpur        B.Tech\n",
            "\n",
            "Jai\n",
            "  Name  Age    Address Qualification\n",
            "0  Jai   27     Nagpur           Msc\n",
            "2  Jai   22  Allahabad           MCA\n",
            "\n",
            "Princi\n",
            "     Name  Age    Address Qualification\n",
            "3  Princi   32    Kannuaj           Phd\n",
            "6  Princi   27  Allahabad           Msc\n",
            "\n"
          ]
        }
      ]
    },
    {
      "cell_type": "code",
      "metadata": {
        "colab": {
          "base_uri": "https://localhost:8080/"
        },
        "id": "xLlk-9P8hRMY",
        "outputId": "b7fc40e1-74b0-4322-f7ba-3afba66aeaf5"
      },
      "source": [
        "# iterating an element\n",
        "# of group containing \n",
        "# multiple keys\n",
        "  \n",
        "grp = df.groupby(['Name', 'Qualification'])\n",
        "for name, group in grp:\n",
        "    print(name)\n",
        "    print(group)\n",
        "    print()"
      ],
      "execution_count": 41,
      "outputs": [
        {
          "output_type": "stream",
          "name": "stdout",
          "text": [
            "('Abhi', 'MA')\n",
            "   Name  Age  Address Qualification\n",
            "7  Abhi   32  Aligarh            MA\n",
            "\n",
            "('Anuj', 'B.com')\n",
            "   Name  Age Address Qualification\n",
            "5  Anuj   36  Kanpur         B.com\n",
            "\n",
            "('Anuj', 'MA')\n",
            "   Name  Age Address Qualification\n",
            "1  Anuj   24  Kanpur            MA\n",
            "\n",
            "('Gaurav', 'B.Tech')\n",
            "     Name  Age  Address Qualification\n",
            "4  Gaurav   33  Jaunpur        B.Tech\n",
            "\n",
            "('Jai', 'MCA')\n",
            "  Name  Age    Address Qualification\n",
            "2  Jai   22  Allahabad           MCA\n",
            "\n",
            "('Jai', 'Msc')\n",
            "  Name  Age Address Qualification\n",
            "0  Jai   27  Nagpur           Msc\n",
            "\n",
            "('Princi', 'Msc')\n",
            "     Name  Age    Address Qualification\n",
            "6  Princi   27  Allahabad           Msc\n",
            "\n",
            "('Princi', 'Phd')\n",
            "     Name  Age  Address Qualification\n",
            "3  Princi   32  Kannuaj           Phd\n",
            "\n"
          ]
        }
      ]
    },
    {
      "cell_type": "code",
      "metadata": {
        "colab": {
          "base_uri": "https://localhost:8080/",
          "height": 110
        },
        "id": "AHL7v_JthScR",
        "outputId": "82571698-fee7-4d48-9aad-52207ef3b7c4"
      },
      "source": [
        "# selecting a single group\n",
        "  \n",
        "grp = df.groupby('Name')\n",
        "grp.get_group('Jai')"
      ],
      "execution_count": 42,
      "outputs": [
        {
          "output_type": "execute_result",
          "data": {
            "text/html": [
              "<div>\n",
              "<style scoped>\n",
              "    .dataframe tbody tr th:only-of-type {\n",
              "        vertical-align: middle;\n",
              "    }\n",
              "\n",
              "    .dataframe tbody tr th {\n",
              "        vertical-align: top;\n",
              "    }\n",
              "\n",
              "    .dataframe thead th {\n",
              "        text-align: right;\n",
              "    }\n",
              "</style>\n",
              "<table border=\"1\" class=\"dataframe\">\n",
              "  <thead>\n",
              "    <tr style=\"text-align: right;\">\n",
              "      <th></th>\n",
              "      <th>Name</th>\n",
              "      <th>Age</th>\n",
              "      <th>Address</th>\n",
              "      <th>Qualification</th>\n",
              "    </tr>\n",
              "  </thead>\n",
              "  <tbody>\n",
              "    <tr>\n",
              "      <th>0</th>\n",
              "      <td>Jai</td>\n",
              "      <td>27</td>\n",
              "      <td>Nagpur</td>\n",
              "      <td>Msc</td>\n",
              "    </tr>\n",
              "    <tr>\n",
              "      <th>2</th>\n",
              "      <td>Jai</td>\n",
              "      <td>22</td>\n",
              "      <td>Allahabad</td>\n",
              "      <td>MCA</td>\n",
              "    </tr>\n",
              "  </tbody>\n",
              "</table>\n",
              "</div>"
            ],
            "text/plain": [
              "  Name  Age    Address Qualification\n",
              "0  Jai   27     Nagpur           Msc\n",
              "2  Jai   22  Allahabad           MCA"
            ]
          },
          "metadata": {},
          "execution_count": 42
        }
      ]
    },
    {
      "cell_type": "code",
      "metadata": {
        "colab": {
          "base_uri": "https://localhost:8080/",
          "height": 234
        },
        "id": "JAIIeQGShSaj",
        "outputId": "4f63e76c-9974-4542-878d-7c119f4511ba"
      },
      "source": [
        "#performing aggregation using \n",
        "#aggregate method\n",
        "\n",
        "grp1 = df.groupby(\"Name\")\n",
        "grp1.aggregate(np.sum)"
      ],
      "execution_count": 43,
      "outputs": [
        {
          "output_type": "execute_result",
          "data": {
            "text/html": [
              "<div>\n",
              "<style scoped>\n",
              "    .dataframe tbody tr th:only-of-type {\n",
              "        vertical-align: middle;\n",
              "    }\n",
              "\n",
              "    .dataframe tbody tr th {\n",
              "        vertical-align: top;\n",
              "    }\n",
              "\n",
              "    .dataframe thead th {\n",
              "        text-align: right;\n",
              "    }\n",
              "</style>\n",
              "<table border=\"1\" class=\"dataframe\">\n",
              "  <thead>\n",
              "    <tr style=\"text-align: right;\">\n",
              "      <th></th>\n",
              "      <th>Age</th>\n",
              "    </tr>\n",
              "    <tr>\n",
              "      <th>Name</th>\n",
              "      <th></th>\n",
              "    </tr>\n",
              "  </thead>\n",
              "  <tbody>\n",
              "    <tr>\n",
              "      <th>Abhi</th>\n",
              "      <td>32</td>\n",
              "    </tr>\n",
              "    <tr>\n",
              "      <th>Anuj</th>\n",
              "      <td>60</td>\n",
              "    </tr>\n",
              "    <tr>\n",
              "      <th>Gaurav</th>\n",
              "      <td>33</td>\n",
              "    </tr>\n",
              "    <tr>\n",
              "      <th>Jai</th>\n",
              "      <td>49</td>\n",
              "    </tr>\n",
              "    <tr>\n",
              "      <th>Princi</th>\n",
              "      <td>59</td>\n",
              "    </tr>\n",
              "  </tbody>\n",
              "</table>\n",
              "</div>"
            ],
            "text/plain": [
              "        Age\n",
              "Name       \n",
              "Abhi     32\n",
              "Anuj     60\n",
              "Gaurav   33\n",
              "Jai      49\n",
              "Princi   59"
            ]
          },
          "metadata": {},
          "execution_count": 43
        }
      ]
    },
    {
      "cell_type": "code",
      "metadata": {
        "colab": {
          "base_uri": "https://localhost:8080/",
          "height": 326
        },
        "id": "Ue1jT8zmhSYq",
        "outputId": "38da7403-05ac-413f-ef9d-f66b5b374d3c"
      },
      "source": [
        "# performing aggregation on\n",
        "# group containing multiple\n",
        "# keys\n",
        "grp1 = df.groupby(['Name', 'Qualification'])\n",
        "  \n",
        "grp1.aggregate(np.sum)"
      ],
      "execution_count": 44,
      "outputs": [
        {
          "output_type": "execute_result",
          "data": {
            "text/html": [
              "<div>\n",
              "<style scoped>\n",
              "    .dataframe tbody tr th:only-of-type {\n",
              "        vertical-align: middle;\n",
              "    }\n",
              "\n",
              "    .dataframe tbody tr th {\n",
              "        vertical-align: top;\n",
              "    }\n",
              "\n",
              "    .dataframe thead th {\n",
              "        text-align: right;\n",
              "    }\n",
              "</style>\n",
              "<table border=\"1\" class=\"dataframe\">\n",
              "  <thead>\n",
              "    <tr style=\"text-align: right;\">\n",
              "      <th></th>\n",
              "      <th></th>\n",
              "      <th>Age</th>\n",
              "    </tr>\n",
              "    <tr>\n",
              "      <th>Name</th>\n",
              "      <th>Qualification</th>\n",
              "      <th></th>\n",
              "    </tr>\n",
              "  </thead>\n",
              "  <tbody>\n",
              "    <tr>\n",
              "      <th>Abhi</th>\n",
              "      <th>MA</th>\n",
              "      <td>32</td>\n",
              "    </tr>\n",
              "    <tr>\n",
              "      <th rowspan=\"2\" valign=\"top\">Anuj</th>\n",
              "      <th>B.com</th>\n",
              "      <td>36</td>\n",
              "    </tr>\n",
              "    <tr>\n",
              "      <th>MA</th>\n",
              "      <td>24</td>\n",
              "    </tr>\n",
              "    <tr>\n",
              "      <th>Gaurav</th>\n",
              "      <th>B.Tech</th>\n",
              "      <td>33</td>\n",
              "    </tr>\n",
              "    <tr>\n",
              "      <th rowspan=\"2\" valign=\"top\">Jai</th>\n",
              "      <th>MCA</th>\n",
              "      <td>22</td>\n",
              "    </tr>\n",
              "    <tr>\n",
              "      <th>Msc</th>\n",
              "      <td>27</td>\n",
              "    </tr>\n",
              "    <tr>\n",
              "      <th rowspan=\"2\" valign=\"top\">Princi</th>\n",
              "      <th>Msc</th>\n",
              "      <td>27</td>\n",
              "    </tr>\n",
              "    <tr>\n",
              "      <th>Phd</th>\n",
              "      <td>32</td>\n",
              "    </tr>\n",
              "  </tbody>\n",
              "</table>\n",
              "</div>"
            ],
            "text/plain": [
              "                      Age\n",
              "Name   Qualification     \n",
              "Abhi   MA              32\n",
              "Anuj   B.com           36\n",
              "       MA              24\n",
              "Gaurav B.Tech          33\n",
              "Jai    MCA             22\n",
              "       Msc             27\n",
              "Princi Msc             27\n",
              "       Phd             32"
            ]
          },
          "metadata": {},
          "execution_count": 44
        }
      ]
    },
    {
      "cell_type": "code",
      "metadata": {
        "colab": {
          "base_uri": "https://localhost:8080/",
          "height": 234
        },
        "id": "OV5-v4NUhST5",
        "outputId": "9a9ead14-c4e3-4861-a97c-a21c6fea435a"
      },
      "source": [
        "#applying a function by passing \n",
        "# a list of function\n",
        "\n",
        "grp = df.groupby(\"Name\")\n",
        "grp[\"Age\"].agg([np.sum,np.mean,np.std])"
      ],
      "execution_count": 45,
      "outputs": [
        {
          "output_type": "execute_result",
          "data": {
            "text/html": [
              "<div>\n",
              "<style scoped>\n",
              "    .dataframe tbody tr th:only-of-type {\n",
              "        vertical-align: middle;\n",
              "    }\n",
              "\n",
              "    .dataframe tbody tr th {\n",
              "        vertical-align: top;\n",
              "    }\n",
              "\n",
              "    .dataframe thead th {\n",
              "        text-align: right;\n",
              "    }\n",
              "</style>\n",
              "<table border=\"1\" class=\"dataframe\">\n",
              "  <thead>\n",
              "    <tr style=\"text-align: right;\">\n",
              "      <th></th>\n",
              "      <th>sum</th>\n",
              "      <th>mean</th>\n",
              "      <th>std</th>\n",
              "    </tr>\n",
              "    <tr>\n",
              "      <th>Name</th>\n",
              "      <th></th>\n",
              "      <th></th>\n",
              "      <th></th>\n",
              "    </tr>\n",
              "  </thead>\n",
              "  <tbody>\n",
              "    <tr>\n",
              "      <th>Abhi</th>\n",
              "      <td>32</td>\n",
              "      <td>32.0</td>\n",
              "      <td>NaN</td>\n",
              "    </tr>\n",
              "    <tr>\n",
              "      <th>Anuj</th>\n",
              "      <td>60</td>\n",
              "      <td>30.0</td>\n",
              "      <td>8.485281</td>\n",
              "    </tr>\n",
              "    <tr>\n",
              "      <th>Gaurav</th>\n",
              "      <td>33</td>\n",
              "      <td>33.0</td>\n",
              "      <td>NaN</td>\n",
              "    </tr>\n",
              "    <tr>\n",
              "      <th>Jai</th>\n",
              "      <td>49</td>\n",
              "      <td>24.5</td>\n",
              "      <td>3.535534</td>\n",
              "    </tr>\n",
              "    <tr>\n",
              "      <th>Princi</th>\n",
              "      <td>59</td>\n",
              "      <td>29.5</td>\n",
              "      <td>3.535534</td>\n",
              "    </tr>\n",
              "  </tbody>\n",
              "</table>\n",
              "</div>"
            ],
            "text/plain": [
              "        sum  mean       std\n",
              "Name                       \n",
              "Abhi     32  32.0       NaN\n",
              "Anuj     60  30.0  8.485281\n",
              "Gaurav   33  33.0       NaN\n",
              "Jai      49  24.5  3.535534\n",
              "Princi   59  29.5  3.535534"
            ]
          },
          "metadata": {},
          "execution_count": 45
        }
      ]
    },
    {
      "cell_type": "code",
      "metadata": {
        "colab": {
          "base_uri": "https://localhost:8080/"
        },
        "id": "i13HXs3ajQpd",
        "outputId": "62506033-fdc2-4404-a420-26b7fdd4713d"
      },
      "source": [
        "# Define a dictionary containing employee data \n",
        "data1 = {'Name':['Jai', 'Anuj', 'Jai', 'Princi', \n",
        "                 'Gaurav', 'Anuj', 'Princi', 'Abhi'], \n",
        "        'Age':[27, 24, 22, 32, \n",
        "               33, 36, 27, 32], \n",
        "        'Address':['Nagpur', 'Kanpur', 'Allahabad', 'Kannuaj',\n",
        "                   'Jaunpur', 'Kanpur', 'Allahabad', 'Aligarh'], \n",
        "        'Qualification':['Msc', 'MA', 'MCA', 'Phd',\n",
        "                         'B.Tech', 'B.com', 'Msc', 'MA'],\n",
        "        'Score': [23, 34, 35, 45, 47, 50, 52, 53]} \n",
        "     \n",
        "   \n",
        "# Convert the dictionary into DataFrame  \n",
        "df = pd.DataFrame(data1)\n",
        "   \n",
        "print(df) "
      ],
      "execution_count": 46,
      "outputs": [
        {
          "output_type": "stream",
          "name": "stdout",
          "text": [
            "     Name  Age    Address Qualification  Score\n",
            "0     Jai   27     Nagpur           Msc     23\n",
            "1    Anuj   24     Kanpur            MA     34\n",
            "2     Jai   22  Allahabad           MCA     35\n",
            "3  Princi   32    Kannuaj           Phd     45\n",
            "4  Gaurav   33    Jaunpur        B.Tech     47\n",
            "5    Anuj   36     Kanpur         B.com     50\n",
            "6  Princi   27  Allahabad           Msc     52\n",
            "7    Abhi   32    Aligarh            MA     53\n"
          ]
        }
      ]
    },
    {
      "cell_type": "code",
      "metadata": {
        "colab": {
          "base_uri": "https://localhost:8080/",
          "height": 234
        },
        "id": "NQQ0_6aUhSQS",
        "outputId": "04407e6f-a0a2-4f1a-c59f-e535934b0d92"
      },
      "source": [
        "# using different aggregation\n",
        "# function by passing dictionary\n",
        "# to aggregate\n",
        "grp = df.groupby('Name')\n",
        "  \n",
        "grp.agg({'Age' : 'sum', 'Score' : 'std'})"
      ],
      "execution_count": 47,
      "outputs": [
        {
          "output_type": "execute_result",
          "data": {
            "text/html": [
              "<div>\n",
              "<style scoped>\n",
              "    .dataframe tbody tr th:only-of-type {\n",
              "        vertical-align: middle;\n",
              "    }\n",
              "\n",
              "    .dataframe tbody tr th {\n",
              "        vertical-align: top;\n",
              "    }\n",
              "\n",
              "    .dataframe thead th {\n",
              "        text-align: right;\n",
              "    }\n",
              "</style>\n",
              "<table border=\"1\" class=\"dataframe\">\n",
              "  <thead>\n",
              "    <tr style=\"text-align: right;\">\n",
              "      <th></th>\n",
              "      <th>Age</th>\n",
              "      <th>Score</th>\n",
              "    </tr>\n",
              "    <tr>\n",
              "      <th>Name</th>\n",
              "      <th></th>\n",
              "      <th></th>\n",
              "    </tr>\n",
              "  </thead>\n",
              "  <tbody>\n",
              "    <tr>\n",
              "      <th>Abhi</th>\n",
              "      <td>32</td>\n",
              "      <td>NaN</td>\n",
              "    </tr>\n",
              "    <tr>\n",
              "      <th>Anuj</th>\n",
              "      <td>60</td>\n",
              "      <td>11.313708</td>\n",
              "    </tr>\n",
              "    <tr>\n",
              "      <th>Gaurav</th>\n",
              "      <td>33</td>\n",
              "      <td>NaN</td>\n",
              "    </tr>\n",
              "    <tr>\n",
              "      <th>Jai</th>\n",
              "      <td>49</td>\n",
              "      <td>8.485281</td>\n",
              "    </tr>\n",
              "    <tr>\n",
              "      <th>Princi</th>\n",
              "      <td>59</td>\n",
              "      <td>4.949747</td>\n",
              "    </tr>\n",
              "  </tbody>\n",
              "</table>\n",
              "</div>"
            ],
            "text/plain": [
              "        Age      Score\n",
              "Name                  \n",
              "Abhi     32        NaN\n",
              "Anuj     60  11.313708\n",
              "Gaurav   33        NaN\n",
              "Jai      49   8.485281\n",
              "Princi   59   4.949747"
            ]
          },
          "metadata": {},
          "execution_count": 47
        }
      ]
    },
    {
      "cell_type": "markdown",
      "metadata": {
        "id": "pO1bbWQcsYM6"
      },
      "source": [
        "##Concatenating DataFrame using .concat() :\n",
        "\n",
        "In order to concat a dataframe, we use .concat() function this function concat a dataframe and returns a new dataframe."
      ]
    },
    {
      "cell_type": "code",
      "metadata": {
        "id": "ODZcJE6IjAKA",
        "colab": {
          "base_uri": "https://localhost:8080/"
        },
        "outputId": "c3f4f55a-ebc4-41a3-dfe3-d61648372be4"
      },
      "source": [
        "# Define a dictionary containing employee data \n",
        "data1 = {'Name':['Jai', 'Princi', 'Gaurav', 'Anuj'], \n",
        "        'Age':[27, 24, 22, 32], \n",
        "        'Address':['Nagpur', 'Kanpur', 'Allahabad', 'Kannuaj'], \n",
        "        'Qualification':['Msc', 'MA', 'MCA', 'Phd']} \n",
        "   \n",
        "# Define a dictionary containing employee data \n",
        "data2 = {'Name':['Abhi', 'Ayushi', 'Dhiraj', 'Hitesh'], \n",
        "        'Age':[17, 14, 12, 52], \n",
        "        'Address':['Nagpur', 'Kanpur', 'Allahabad', 'Kannuaj'], \n",
        "        'Qualification':['Btech', 'B.A', 'Bcom', 'B.hons']} \n",
        " \n",
        "# Convert the dictionary into DataFrame  \n",
        "df = pd.DataFrame(data1,index=[0, 1, 2, 3])\n",
        " \n",
        "# Convert the dictionary into DataFrame  \n",
        "df1 = pd.DataFrame(data2, index=[4, 5, 6, 7])\n",
        " \n",
        "print(df, \"\\n\\n\", df1)"
      ],
      "execution_count": 48,
      "outputs": [
        {
          "output_type": "stream",
          "name": "stdout",
          "text": [
            "     Name  Age    Address Qualification\n",
            "0     Jai   27     Nagpur           Msc\n",
            "1  Princi   24     Kanpur            MA\n",
            "2  Gaurav   22  Allahabad           MCA\n",
            "3    Anuj   32    Kannuaj           Phd \n",
            "\n",
            "      Name  Age    Address Qualification\n",
            "4    Abhi   17     Nagpur         Btech\n",
            "5  Ayushi   14     Kanpur           B.A\n",
            "6  Dhiraj   12  Allahabad          Bcom\n",
            "7  Hitesh   52    Kannuaj        B.hons\n"
          ]
        }
      ]
    },
    {
      "cell_type": "code",
      "metadata": {
        "colab": {
          "base_uri": "https://localhost:8080/",
          "height": 295
        },
        "id": "UbvsuJruseWe",
        "outputId": "e6e48f3d-efd6-4ea4-fd1a-1b183e72a45b"
      },
      "source": [
        "#Now we apply .concat function in order to concat two dataframe\n",
        "\n",
        "frames = [df, df1]\n",
        " \n",
        "res1 = pd.concat(frames)\n",
        "res1"
      ],
      "execution_count": 49,
      "outputs": [
        {
          "output_type": "execute_result",
          "data": {
            "text/html": [
              "<div>\n",
              "<style scoped>\n",
              "    .dataframe tbody tr th:only-of-type {\n",
              "        vertical-align: middle;\n",
              "    }\n",
              "\n",
              "    .dataframe tbody tr th {\n",
              "        vertical-align: top;\n",
              "    }\n",
              "\n",
              "    .dataframe thead th {\n",
              "        text-align: right;\n",
              "    }\n",
              "</style>\n",
              "<table border=\"1\" class=\"dataframe\">\n",
              "  <thead>\n",
              "    <tr style=\"text-align: right;\">\n",
              "      <th></th>\n",
              "      <th>Name</th>\n",
              "      <th>Age</th>\n",
              "      <th>Address</th>\n",
              "      <th>Qualification</th>\n",
              "    </tr>\n",
              "  </thead>\n",
              "  <tbody>\n",
              "    <tr>\n",
              "      <th>0</th>\n",
              "      <td>Jai</td>\n",
              "      <td>27</td>\n",
              "      <td>Nagpur</td>\n",
              "      <td>Msc</td>\n",
              "    </tr>\n",
              "    <tr>\n",
              "      <th>1</th>\n",
              "      <td>Princi</td>\n",
              "      <td>24</td>\n",
              "      <td>Kanpur</td>\n",
              "      <td>MA</td>\n",
              "    </tr>\n",
              "    <tr>\n",
              "      <th>2</th>\n",
              "      <td>Gaurav</td>\n",
              "      <td>22</td>\n",
              "      <td>Allahabad</td>\n",
              "      <td>MCA</td>\n",
              "    </tr>\n",
              "    <tr>\n",
              "      <th>3</th>\n",
              "      <td>Anuj</td>\n",
              "      <td>32</td>\n",
              "      <td>Kannuaj</td>\n",
              "      <td>Phd</td>\n",
              "    </tr>\n",
              "    <tr>\n",
              "      <th>4</th>\n",
              "      <td>Abhi</td>\n",
              "      <td>17</td>\n",
              "      <td>Nagpur</td>\n",
              "      <td>Btech</td>\n",
              "    </tr>\n",
              "    <tr>\n",
              "      <th>5</th>\n",
              "      <td>Ayushi</td>\n",
              "      <td>14</td>\n",
              "      <td>Kanpur</td>\n",
              "      <td>B.A</td>\n",
              "    </tr>\n",
              "    <tr>\n",
              "      <th>6</th>\n",
              "      <td>Dhiraj</td>\n",
              "      <td>12</td>\n",
              "      <td>Allahabad</td>\n",
              "      <td>Bcom</td>\n",
              "    </tr>\n",
              "    <tr>\n",
              "      <th>7</th>\n",
              "      <td>Hitesh</td>\n",
              "      <td>52</td>\n",
              "      <td>Kannuaj</td>\n",
              "      <td>B.hons</td>\n",
              "    </tr>\n",
              "  </tbody>\n",
              "</table>\n",
              "</div>"
            ],
            "text/plain": [
              "     Name  Age    Address Qualification\n",
              "0     Jai   27     Nagpur           Msc\n",
              "1  Princi   24     Kanpur            MA\n",
              "2  Gaurav   22  Allahabad           MCA\n",
              "3    Anuj   32    Kannuaj           Phd\n",
              "4    Abhi   17     Nagpur         Btech\n",
              "5  Ayushi   14     Kanpur           B.A\n",
              "6  Dhiraj   12  Allahabad          Bcom\n",
              "7  Hitesh   52    Kannuaj        B.hons"
            ]
          },
          "metadata": {},
          "execution_count": 49
        }
      ]
    },
    {
      "cell_type": "markdown",
      "metadata": {
        "id": "6J3aidyHtvqo"
      },
      "source": [
        "##Concatenating DataFrame using .append()\n",
        "\n",
        "\n",
        "In order to concat a dataframe, we use .append() function this function concatenate along axis=0, namely the index. This function exist before .concat."
      ]
    },
    {
      "cell_type": "code",
      "metadata": {
        "colab": {
          "base_uri": "https://localhost:8080/"
        },
        "id": "iYJheKTktSTm",
        "outputId": "e5b904d9-b164-48b3-bf68-cab8b6214322"
      },
      "source": [
        "# Define a dictionary containing employee data \n",
        "data1 = {'Name':['Jai', 'Princi', 'Gaurav', 'Anuj'], \n",
        "        'Age':[27, 24, 22, 32], \n",
        "        'Address':['Nagpur', 'Kanpur', 'Allahabad', 'Kannuaj'], \n",
        "        'Qualification':['Msc', 'MA', 'MCA', 'Phd']} \n",
        "   \n",
        "# Define a dictionary containing employee data \n",
        "data2 = {'Name':['Abhi', 'Ayushi', 'Dhiraj', 'Hitesh'], \n",
        "        'Age':[17, 14, 12, 52], \n",
        "        'Address':['Nagpur', 'Kanpur', 'Allahabad', 'Kannuaj'], \n",
        "        'Qualification':['Btech', 'B.A', 'Bcom', 'B.hons']} \n",
        " \n",
        "# Convert the dictionary into DataFrame  \n",
        "df = pd.DataFrame(data1,index=[0, 1, 2, 3])\n",
        " \n",
        "# Convert the dictionary into DataFrame  \n",
        "df1 = pd.DataFrame(data2, index=[4, 5, 6, 7])\n",
        " \n",
        "print(df, \"\\n\\n\", df1) "
      ],
      "execution_count": 50,
      "outputs": [
        {
          "output_type": "stream",
          "name": "stdout",
          "text": [
            "     Name  Age    Address Qualification\n",
            "0     Jai   27     Nagpur           Msc\n",
            "1  Princi   24     Kanpur            MA\n",
            "2  Gaurav   22  Allahabad           MCA\n",
            "3    Anuj   32    Kannuaj           Phd \n",
            "\n",
            "      Name  Age    Address Qualification\n",
            "4    Abhi   17     Nagpur         Btech\n",
            "5  Ayushi   14     Kanpur           B.A\n",
            "6  Dhiraj   12  Allahabad          Bcom\n",
            "7  Hitesh   52    Kannuaj        B.hons\n"
          ]
        }
      ]
    },
    {
      "cell_type": "code",
      "metadata": {
        "colab": {
          "base_uri": "https://localhost:8080/",
          "height": 295
        },
        "id": "9wwwGj1GuGRh",
        "outputId": "001f514d-59fd-4b67-9ebe-3eec62b21a39"
      },
      "source": [
        "# using append function\n",
        " \n",
        "res = df.append(df1)\n",
        "res"
      ],
      "execution_count": 51,
      "outputs": [
        {
          "output_type": "execute_result",
          "data": {
            "text/html": [
              "<div>\n",
              "<style scoped>\n",
              "    .dataframe tbody tr th:only-of-type {\n",
              "        vertical-align: middle;\n",
              "    }\n",
              "\n",
              "    .dataframe tbody tr th {\n",
              "        vertical-align: top;\n",
              "    }\n",
              "\n",
              "    .dataframe thead th {\n",
              "        text-align: right;\n",
              "    }\n",
              "</style>\n",
              "<table border=\"1\" class=\"dataframe\">\n",
              "  <thead>\n",
              "    <tr style=\"text-align: right;\">\n",
              "      <th></th>\n",
              "      <th>Name</th>\n",
              "      <th>Age</th>\n",
              "      <th>Address</th>\n",
              "      <th>Qualification</th>\n",
              "    </tr>\n",
              "  </thead>\n",
              "  <tbody>\n",
              "    <tr>\n",
              "      <th>0</th>\n",
              "      <td>Jai</td>\n",
              "      <td>27</td>\n",
              "      <td>Nagpur</td>\n",
              "      <td>Msc</td>\n",
              "    </tr>\n",
              "    <tr>\n",
              "      <th>1</th>\n",
              "      <td>Princi</td>\n",
              "      <td>24</td>\n",
              "      <td>Kanpur</td>\n",
              "      <td>MA</td>\n",
              "    </tr>\n",
              "    <tr>\n",
              "      <th>2</th>\n",
              "      <td>Gaurav</td>\n",
              "      <td>22</td>\n",
              "      <td>Allahabad</td>\n",
              "      <td>MCA</td>\n",
              "    </tr>\n",
              "    <tr>\n",
              "      <th>3</th>\n",
              "      <td>Anuj</td>\n",
              "      <td>32</td>\n",
              "      <td>Kannuaj</td>\n",
              "      <td>Phd</td>\n",
              "    </tr>\n",
              "    <tr>\n",
              "      <th>4</th>\n",
              "      <td>Abhi</td>\n",
              "      <td>17</td>\n",
              "      <td>Nagpur</td>\n",
              "      <td>Btech</td>\n",
              "    </tr>\n",
              "    <tr>\n",
              "      <th>5</th>\n",
              "      <td>Ayushi</td>\n",
              "      <td>14</td>\n",
              "      <td>Kanpur</td>\n",
              "      <td>B.A</td>\n",
              "    </tr>\n",
              "    <tr>\n",
              "      <th>6</th>\n",
              "      <td>Dhiraj</td>\n",
              "      <td>12</td>\n",
              "      <td>Allahabad</td>\n",
              "      <td>Bcom</td>\n",
              "    </tr>\n",
              "    <tr>\n",
              "      <th>7</th>\n",
              "      <td>Hitesh</td>\n",
              "      <td>52</td>\n",
              "      <td>Kannuaj</td>\n",
              "      <td>B.hons</td>\n",
              "    </tr>\n",
              "  </tbody>\n",
              "</table>\n",
              "</div>"
            ],
            "text/plain": [
              "     Name  Age    Address Qualification\n",
              "0     Jai   27     Nagpur           Msc\n",
              "1  Princi   24     Kanpur            MA\n",
              "2  Gaurav   22  Allahabad           MCA\n",
              "3    Anuj   32    Kannuaj           Phd\n",
              "4    Abhi   17     Nagpur         Btech\n",
              "5  Ayushi   14     Kanpur           B.A\n",
              "6  Dhiraj   12  Allahabad          Bcom\n",
              "7  Hitesh   52    Kannuaj        B.hons"
            ]
          },
          "metadata": {},
          "execution_count": 51
        }
      ]
    },
    {
      "cell_type": "markdown",
      "metadata": {
        "id": "11e2mvtVBhhq"
      },
      "source": [
        "##Merging DataFrame"
      ]
    },
    {
      "cell_type": "markdown",
      "metadata": {
        "id": "PtmBvy1_CM_o"
      },
      "source": [
        "Merging a dataframe with one unique key combination"
      ]
    },
    {
      "cell_type": "code",
      "metadata": {
        "id": "7Lj5kEwTuI7R",
        "colab": {
          "base_uri": "https://localhost:8080/"
        },
        "outputId": "addb480b-be57-48bf-8bba-a72fe5b5b887"
      },
      "source": [
        "# Define a dictionary containing employee data \n",
        "data1 = {'key': ['K0', 'K1', 'K2', 'K3'],\n",
        "         'Name':['Jai', 'Princi', 'Gaurav', 'Anuj'], \n",
        "        'Age':[27, 24, 22, 32],} \n",
        "  \n",
        "# Define a dictionary containing employee data \n",
        "data2 = {'key': ['K0', 'K1', 'K2', 'K3'],\n",
        "         'Address':['Nagpur', 'Kanpur', 'Allahabad', 'Kannuaj'], \n",
        "        'Qualification':['Btech', 'B.A', 'Bcom', 'B.hons']} \n",
        "\n",
        "# Convert the dictionary into DataFrame  \n",
        "df = pd.DataFrame(data1)\n",
        "\n",
        "# Convert the dictionary into DataFrame  \n",
        "df1 = pd.DataFrame(data2) \n",
        " \n",
        "\n",
        "print(df, \"\\n\\n\", df1)"
      ],
      "execution_count": 52,
      "outputs": [
        {
          "output_type": "stream",
          "name": "stdout",
          "text": [
            "  key    Name  Age\n",
            "0  K0     Jai   27\n",
            "1  K1  Princi   24\n",
            "2  K2  Gaurav   22\n",
            "3  K3    Anuj   32 \n",
            "\n",
            "   key    Address Qualification\n",
            "0  K0     Nagpur         Btech\n",
            "1  K1     Kanpur           B.A\n",
            "2  K2  Allahabad          Bcom\n",
            "3  K3    Kannuaj        B.hons\n"
          ]
        }
      ]
    },
    {
      "cell_type": "markdown",
      "metadata": {
        "id": "i-M9SMtGCU2u"
      },
      "source": [
        "Now we are using .merge() with one unique key combination"
      ]
    },
    {
      "cell_type": "code",
      "metadata": {
        "colab": {
          "base_uri": "https://localhost:8080/",
          "height": 172
        },
        "id": "DBj5J3FECXXC",
        "outputId": "c2916a6b-07c8-4aa1-8c0f-f24817c41883"
      },
      "source": [
        "# using .merge() function\n",
        "res = pd.merge(df, df1, on='key')\n",
        "\n",
        "res"
      ],
      "execution_count": 53,
      "outputs": [
        {
          "output_type": "execute_result",
          "data": {
            "text/html": [
              "<div>\n",
              "<style scoped>\n",
              "    .dataframe tbody tr th:only-of-type {\n",
              "        vertical-align: middle;\n",
              "    }\n",
              "\n",
              "    .dataframe tbody tr th {\n",
              "        vertical-align: top;\n",
              "    }\n",
              "\n",
              "    .dataframe thead th {\n",
              "        text-align: right;\n",
              "    }\n",
              "</style>\n",
              "<table border=\"1\" class=\"dataframe\">\n",
              "  <thead>\n",
              "    <tr style=\"text-align: right;\">\n",
              "      <th></th>\n",
              "      <th>key</th>\n",
              "      <th>Name</th>\n",
              "      <th>Age</th>\n",
              "      <th>Address</th>\n",
              "      <th>Qualification</th>\n",
              "    </tr>\n",
              "  </thead>\n",
              "  <tbody>\n",
              "    <tr>\n",
              "      <th>0</th>\n",
              "      <td>K0</td>\n",
              "      <td>Jai</td>\n",
              "      <td>27</td>\n",
              "      <td>Nagpur</td>\n",
              "      <td>Btech</td>\n",
              "    </tr>\n",
              "    <tr>\n",
              "      <th>1</th>\n",
              "      <td>K1</td>\n",
              "      <td>Princi</td>\n",
              "      <td>24</td>\n",
              "      <td>Kanpur</td>\n",
              "      <td>B.A</td>\n",
              "    </tr>\n",
              "    <tr>\n",
              "      <th>2</th>\n",
              "      <td>K2</td>\n",
              "      <td>Gaurav</td>\n",
              "      <td>22</td>\n",
              "      <td>Allahabad</td>\n",
              "      <td>Bcom</td>\n",
              "    </tr>\n",
              "    <tr>\n",
              "      <th>3</th>\n",
              "      <td>K3</td>\n",
              "      <td>Anuj</td>\n",
              "      <td>32</td>\n",
              "      <td>Kannuaj</td>\n",
              "      <td>B.hons</td>\n",
              "    </tr>\n",
              "  </tbody>\n",
              "</table>\n",
              "</div>"
            ],
            "text/plain": [
              "  key    Name  Age    Address Qualification\n",
              "0  K0     Jai   27     Nagpur         Btech\n",
              "1  K1  Princi   24     Kanpur           B.A\n",
              "2  K2  Gaurav   22  Allahabad          Bcom\n",
              "3  K3    Anuj   32    Kannuaj        B.hons"
            ]
          },
          "metadata": {},
          "execution_count": 53
        }
      ]
    },
    {
      "cell_type": "markdown",
      "metadata": {
        "id": "lxRKK6q5ChSB"
      },
      "source": [
        "Merging dataframe using multiple join keys."
      ]
    },
    {
      "cell_type": "code",
      "metadata": {
        "colab": {
          "base_uri": "https://localhost:8080/"
        },
        "id": "9wF08zIbCQ-j",
        "outputId": "5d83248e-c634-4192-d302-44a8c8ca0f62"
      },
      "source": [
        "#Define a dictionary containing employee data \n",
        "data1 = {'key': ['K0', 'K1', 'K2', 'K3'],\n",
        "         'key1': ['K0', 'K1', 'K0', 'K1'],\n",
        "         'Name':['Jai', 'Princi', 'Gaurav', 'Anuj'], \n",
        "        'Age':[27, 24, 22, 32],} \n",
        "  \n",
        "# Define a dictionary containing employee data \n",
        "data2 = {'key': ['K0', 'K1', 'K2', 'K3'],\n",
        "         'key1': ['K0', 'K0', 'K0', 'K0'],\n",
        "         'Address':['Nagpur', 'Kanpur', 'Allahabad', 'Kannuaj'], \n",
        "        'Qualification':['Btech', 'B.A', 'Bcom', 'B.hons']} \n",
        "\n",
        "# Convert the dictionary into DataFrame  \n",
        "df = pd.DataFrame(data1)\n",
        "\n",
        "# Convert the dictionary into DataFrame  \n",
        "df1 = pd.DataFrame(data2) \n",
        " \n",
        "\n",
        "print(df, \"\\n\\n\", df1) "
      ],
      "execution_count": 54,
      "outputs": [
        {
          "output_type": "stream",
          "name": "stdout",
          "text": [
            "  key key1    Name  Age\n",
            "0  K0   K0     Jai   27\n",
            "1  K1   K1  Princi   24\n",
            "2  K2   K0  Gaurav   22\n",
            "3  K3   K1    Anuj   32 \n",
            "\n",
            "   key key1    Address Qualification\n",
            "0  K0   K0     Nagpur         Btech\n",
            "1  K1   K0     Kanpur           B.A\n",
            "2  K2   K0  Allahabad          Bcom\n",
            "3  K3   K0    Kannuaj        B.hons\n"
          ]
        }
      ]
    },
    {
      "cell_type": "code",
      "metadata": {
        "colab": {
          "base_uri": "https://localhost:8080/",
          "height": 110
        },
        "id": "G7SqjWyrCl2I",
        "outputId": "42d5e3f3-2d57-46cb-e24c-a852991b0fac"
      },
      "source": [
        "# merging dataframe using multiple keys\n",
        "res1 = pd.merge(df, df1, on=['key', 'key1'])\n",
        "\n",
        "res1"
      ],
      "execution_count": 55,
      "outputs": [
        {
          "output_type": "execute_result",
          "data": {
            "text/html": [
              "<div>\n",
              "<style scoped>\n",
              "    .dataframe tbody tr th:only-of-type {\n",
              "        vertical-align: middle;\n",
              "    }\n",
              "\n",
              "    .dataframe tbody tr th {\n",
              "        vertical-align: top;\n",
              "    }\n",
              "\n",
              "    .dataframe thead th {\n",
              "        text-align: right;\n",
              "    }\n",
              "</style>\n",
              "<table border=\"1\" class=\"dataframe\">\n",
              "  <thead>\n",
              "    <tr style=\"text-align: right;\">\n",
              "      <th></th>\n",
              "      <th>key</th>\n",
              "      <th>key1</th>\n",
              "      <th>Name</th>\n",
              "      <th>Age</th>\n",
              "      <th>Address</th>\n",
              "      <th>Qualification</th>\n",
              "    </tr>\n",
              "  </thead>\n",
              "  <tbody>\n",
              "    <tr>\n",
              "      <th>0</th>\n",
              "      <td>K0</td>\n",
              "      <td>K0</td>\n",
              "      <td>Jai</td>\n",
              "      <td>27</td>\n",
              "      <td>Nagpur</td>\n",
              "      <td>Btech</td>\n",
              "    </tr>\n",
              "    <tr>\n",
              "      <th>1</th>\n",
              "      <td>K2</td>\n",
              "      <td>K0</td>\n",
              "      <td>Gaurav</td>\n",
              "      <td>22</td>\n",
              "      <td>Allahabad</td>\n",
              "      <td>Bcom</td>\n",
              "    </tr>\n",
              "  </tbody>\n",
              "</table>\n",
              "</div>"
            ],
            "text/plain": [
              "  key key1    Name  Age    Address Qualification\n",
              "0  K0   K0     Jai   27     Nagpur         Btech\n",
              "1  K2   K0  Gaurav   22  Allahabad          Bcom"
            ]
          },
          "metadata": {},
          "execution_count": 55
        }
      ]
    },
    {
      "cell_type": "markdown",
      "metadata": {
        "id": "ac82--YiELh-"
      },
      "source": [
        "Merging dataframe using how in an argument:"
      ]
    },
    {
      "cell_type": "code",
      "metadata": {
        "colab": {
          "base_uri": "https://localhost:8080/"
        },
        "id": "0RowuSfQD_7j",
        "outputId": "8ad97f12-b795-456a-9b51-eee9fdb0c987"
      },
      "source": [
        "# Define a dictionary containing employee data \n",
        "data1 = {'key': ['K0', 'K1', 'K2', 'K3'],\n",
        "         'key1': ['K0', 'K1', 'K0', 'K1'],\n",
        "         'Name':['Jai', 'Princi', 'Gaurav', 'Anuj'], \n",
        "        'Age':[27, 24, 22, 32],} \n",
        "  \n",
        "# Define a dictionary containing employee data \n",
        "data2 = {'key': ['K0', 'K1', 'K2', 'K3'],\n",
        "         'key1': ['K0', 'K0', 'K0', 'K0'],\n",
        "         'Address':['Nagpur', 'Kanpur', 'Allahabad', 'Kannuaj'], \n",
        "        'Qualification':['Btech', 'B.A', 'Bcom', 'B.hons']} \n",
        "\n",
        "# Convert the dictionary into DataFrame  \n",
        "df = pd.DataFrame(data1)\n",
        "\n",
        "# Convert the dictionary into DataFrame  \n",
        "df1 = pd.DataFrame(data2) \n",
        " \n",
        "\n",
        "print(df, \"\\n\\n\", df1) \n"
      ],
      "execution_count": 56,
      "outputs": [
        {
          "output_type": "stream",
          "name": "stdout",
          "text": [
            "  key key1    Name  Age\n",
            "0  K0   K0     Jai   27\n",
            "1  K1   K1  Princi   24\n",
            "2  K2   K0  Gaurav   22\n",
            "3  K3   K1    Anuj   32 \n",
            "\n",
            "   key key1    Address Qualification\n",
            "0  K0   K0     Nagpur         Btech\n",
            "1  K1   K0     Kanpur           B.A\n",
            "2  K2   K0  Allahabad          Bcom\n",
            "3  K3   K0    Kannuaj        B.hons\n"
          ]
        }
      ]
    },
    {
      "cell_type": "code",
      "metadata": {
        "colab": {
          "base_uri": "https://localhost:8080/",
          "height": 172
        },
        "id": "D94GO7zcESE5",
        "outputId": "e53c8e81-6119-48a7-d1ed-525387095208"
      },
      "source": [
        "# using keys from left frame\n",
        "res = pd.merge(df, df1, how='left', on=['key', 'key1'])\n",
        "\n",
        "res"
      ],
      "execution_count": 57,
      "outputs": [
        {
          "output_type": "execute_result",
          "data": {
            "text/html": [
              "<div>\n",
              "<style scoped>\n",
              "    .dataframe tbody tr th:only-of-type {\n",
              "        vertical-align: middle;\n",
              "    }\n",
              "\n",
              "    .dataframe tbody tr th {\n",
              "        vertical-align: top;\n",
              "    }\n",
              "\n",
              "    .dataframe thead th {\n",
              "        text-align: right;\n",
              "    }\n",
              "</style>\n",
              "<table border=\"1\" class=\"dataframe\">\n",
              "  <thead>\n",
              "    <tr style=\"text-align: right;\">\n",
              "      <th></th>\n",
              "      <th>key</th>\n",
              "      <th>key1</th>\n",
              "      <th>Name</th>\n",
              "      <th>Age</th>\n",
              "      <th>Address</th>\n",
              "      <th>Qualification</th>\n",
              "    </tr>\n",
              "  </thead>\n",
              "  <tbody>\n",
              "    <tr>\n",
              "      <th>0</th>\n",
              "      <td>K0</td>\n",
              "      <td>K0</td>\n",
              "      <td>Jai</td>\n",
              "      <td>27</td>\n",
              "      <td>Nagpur</td>\n",
              "      <td>Btech</td>\n",
              "    </tr>\n",
              "    <tr>\n",
              "      <th>1</th>\n",
              "      <td>K1</td>\n",
              "      <td>K1</td>\n",
              "      <td>Princi</td>\n",
              "      <td>24</td>\n",
              "      <td>NaN</td>\n",
              "      <td>NaN</td>\n",
              "    </tr>\n",
              "    <tr>\n",
              "      <th>2</th>\n",
              "      <td>K2</td>\n",
              "      <td>K0</td>\n",
              "      <td>Gaurav</td>\n",
              "      <td>22</td>\n",
              "      <td>Allahabad</td>\n",
              "      <td>Bcom</td>\n",
              "    </tr>\n",
              "    <tr>\n",
              "      <th>3</th>\n",
              "      <td>K3</td>\n",
              "      <td>K1</td>\n",
              "      <td>Anuj</td>\n",
              "      <td>32</td>\n",
              "      <td>NaN</td>\n",
              "      <td>NaN</td>\n",
              "    </tr>\n",
              "  </tbody>\n",
              "</table>\n",
              "</div>"
            ],
            "text/plain": [
              "  key key1    Name  Age    Address Qualification\n",
              "0  K0   K0     Jai   27     Nagpur         Btech\n",
              "1  K1   K1  Princi   24        NaN           NaN\n",
              "2  K2   K0  Gaurav   22  Allahabad          Bcom\n",
              "3  K3   K1    Anuj   32        NaN           NaN"
            ]
          },
          "metadata": {},
          "execution_count": 57
        }
      ]
    },
    {
      "cell_type": "code",
      "metadata": {
        "colab": {
          "base_uri": "https://localhost:8080/",
          "height": 172
        },
        "id": "rwQEwL69EVxv",
        "outputId": "3cbfd321-8b44-4576-d1e0-345cf72f7594"
      },
      "source": [
        "# using keys from right frame\n",
        "res1 = pd.merge(df, df1, how='right', on=['key', 'key1'])\n",
        "\n",
        "res1"
      ],
      "execution_count": 58,
      "outputs": [
        {
          "output_type": "execute_result",
          "data": {
            "text/html": [
              "<div>\n",
              "<style scoped>\n",
              "    .dataframe tbody tr th:only-of-type {\n",
              "        vertical-align: middle;\n",
              "    }\n",
              "\n",
              "    .dataframe tbody tr th {\n",
              "        vertical-align: top;\n",
              "    }\n",
              "\n",
              "    .dataframe thead th {\n",
              "        text-align: right;\n",
              "    }\n",
              "</style>\n",
              "<table border=\"1\" class=\"dataframe\">\n",
              "  <thead>\n",
              "    <tr style=\"text-align: right;\">\n",
              "      <th></th>\n",
              "      <th>key</th>\n",
              "      <th>key1</th>\n",
              "      <th>Name</th>\n",
              "      <th>Age</th>\n",
              "      <th>Address</th>\n",
              "      <th>Qualification</th>\n",
              "    </tr>\n",
              "  </thead>\n",
              "  <tbody>\n",
              "    <tr>\n",
              "      <th>0</th>\n",
              "      <td>K0</td>\n",
              "      <td>K0</td>\n",
              "      <td>Jai</td>\n",
              "      <td>27.0</td>\n",
              "      <td>Nagpur</td>\n",
              "      <td>Btech</td>\n",
              "    </tr>\n",
              "    <tr>\n",
              "      <th>1</th>\n",
              "      <td>K1</td>\n",
              "      <td>K0</td>\n",
              "      <td>NaN</td>\n",
              "      <td>NaN</td>\n",
              "      <td>Kanpur</td>\n",
              "      <td>B.A</td>\n",
              "    </tr>\n",
              "    <tr>\n",
              "      <th>2</th>\n",
              "      <td>K2</td>\n",
              "      <td>K0</td>\n",
              "      <td>Gaurav</td>\n",
              "      <td>22.0</td>\n",
              "      <td>Allahabad</td>\n",
              "      <td>Bcom</td>\n",
              "    </tr>\n",
              "    <tr>\n",
              "      <th>3</th>\n",
              "      <td>K3</td>\n",
              "      <td>K0</td>\n",
              "      <td>NaN</td>\n",
              "      <td>NaN</td>\n",
              "      <td>Kannuaj</td>\n",
              "      <td>B.hons</td>\n",
              "    </tr>\n",
              "  </tbody>\n",
              "</table>\n",
              "</div>"
            ],
            "text/plain": [
              "  key key1    Name   Age    Address Qualification\n",
              "0  K0   K0     Jai  27.0     Nagpur         Btech\n",
              "1  K1   K0     NaN   NaN     Kanpur           B.A\n",
              "2  K2   K0  Gaurav  22.0  Allahabad          Bcom\n",
              "3  K3   K0     NaN   NaN    Kannuaj        B.hons"
            ]
          },
          "metadata": {},
          "execution_count": 58
        }
      ]
    },
    {
      "cell_type": "code",
      "metadata": {
        "colab": {
          "base_uri": "https://localhost:8080/",
          "height": 234
        },
        "id": "IqHRppcqEmxw",
        "outputId": "6f635c93-302e-40de-bf3b-b5f6518cea93"
      },
      "source": [
        "# getting union  of keys\n",
        "res2 = pd.merge(df, df1, how='outer', on=['key', 'key1'])\n",
        "\n",
        "res2"
      ],
      "execution_count": 59,
      "outputs": [
        {
          "output_type": "execute_result",
          "data": {
            "text/html": [
              "<div>\n",
              "<style scoped>\n",
              "    .dataframe tbody tr th:only-of-type {\n",
              "        vertical-align: middle;\n",
              "    }\n",
              "\n",
              "    .dataframe tbody tr th {\n",
              "        vertical-align: top;\n",
              "    }\n",
              "\n",
              "    .dataframe thead th {\n",
              "        text-align: right;\n",
              "    }\n",
              "</style>\n",
              "<table border=\"1\" class=\"dataframe\">\n",
              "  <thead>\n",
              "    <tr style=\"text-align: right;\">\n",
              "      <th></th>\n",
              "      <th>key</th>\n",
              "      <th>key1</th>\n",
              "      <th>Name</th>\n",
              "      <th>Age</th>\n",
              "      <th>Address</th>\n",
              "      <th>Qualification</th>\n",
              "    </tr>\n",
              "  </thead>\n",
              "  <tbody>\n",
              "    <tr>\n",
              "      <th>0</th>\n",
              "      <td>K0</td>\n",
              "      <td>K0</td>\n",
              "      <td>Jai</td>\n",
              "      <td>27.0</td>\n",
              "      <td>Nagpur</td>\n",
              "      <td>Btech</td>\n",
              "    </tr>\n",
              "    <tr>\n",
              "      <th>1</th>\n",
              "      <td>K1</td>\n",
              "      <td>K1</td>\n",
              "      <td>Princi</td>\n",
              "      <td>24.0</td>\n",
              "      <td>NaN</td>\n",
              "      <td>NaN</td>\n",
              "    </tr>\n",
              "    <tr>\n",
              "      <th>2</th>\n",
              "      <td>K2</td>\n",
              "      <td>K0</td>\n",
              "      <td>Gaurav</td>\n",
              "      <td>22.0</td>\n",
              "      <td>Allahabad</td>\n",
              "      <td>Bcom</td>\n",
              "    </tr>\n",
              "    <tr>\n",
              "      <th>3</th>\n",
              "      <td>K3</td>\n",
              "      <td>K1</td>\n",
              "      <td>Anuj</td>\n",
              "      <td>32.0</td>\n",
              "      <td>NaN</td>\n",
              "      <td>NaN</td>\n",
              "    </tr>\n",
              "    <tr>\n",
              "      <th>4</th>\n",
              "      <td>K1</td>\n",
              "      <td>K0</td>\n",
              "      <td>NaN</td>\n",
              "      <td>NaN</td>\n",
              "      <td>Kanpur</td>\n",
              "      <td>B.A</td>\n",
              "    </tr>\n",
              "    <tr>\n",
              "      <th>5</th>\n",
              "      <td>K3</td>\n",
              "      <td>K0</td>\n",
              "      <td>NaN</td>\n",
              "      <td>NaN</td>\n",
              "      <td>Kannuaj</td>\n",
              "      <td>B.hons</td>\n",
              "    </tr>\n",
              "  </tbody>\n",
              "</table>\n",
              "</div>"
            ],
            "text/plain": [
              "  key key1    Name   Age    Address Qualification\n",
              "0  K0   K0     Jai  27.0     Nagpur         Btech\n",
              "1  K1   K1  Princi  24.0        NaN           NaN\n",
              "2  K2   K0  Gaurav  22.0  Allahabad          Bcom\n",
              "3  K3   K1    Anuj  32.0        NaN           NaN\n",
              "4  K1   K0     NaN   NaN     Kanpur           B.A\n",
              "5  K3   K0     NaN   NaN    Kannuaj        B.hons"
            ]
          },
          "metadata": {},
          "execution_count": 59
        }
      ]
    },
    {
      "cell_type": "markdown",
      "metadata": {
        "id": "Hz8IT-V9E5Gz"
      },
      "source": [
        "Joining DataFrame\n",
        "\n",
        "In order to join dataframe, we use .join() function this function is used for combining the columns of two potentially differently-indexed DataFrames into a single result DataFrame."
      ]
    },
    {
      "cell_type": "code",
      "metadata": {
        "colab": {
          "base_uri": "https://localhost:8080/"
        },
        "id": "uohn5f-RErqQ",
        "outputId": "4188a27e-0e0f-4052-a3c1-061e2dc43961"
      },
      "source": [
        "# Define a dictionary containing employee data \n",
        "data1 = {'Name':['Jai', 'Princi', 'Gaurav', 'Anuj'], \n",
        "        'Age':[27, 24, 22, 32]} \n",
        "   \n",
        "# Define a dictionary containing employee data \n",
        "data2 = {'Address':['Allahabad', 'Kannuaj', 'Allahabad', 'Kannuaj'], \n",
        "        'Qualification':['MCA', 'Phd', 'Bcom', 'B.hons']} \n",
        " \n",
        "# Convert the dictionary into DataFrame  \n",
        "df = pd.DataFrame(data1,index=['K0', 'K1', 'K2', 'K3'])\n",
        " \n",
        "# Convert the dictionary into DataFrame  \n",
        "df1 = pd.DataFrame(data2, index=['K0', 'K2', 'K3', 'K4'])\n",
        "\n",
        "\n",
        "print(df, \"\\n\\n\", df1)  "
      ],
      "execution_count": 60,
      "outputs": [
        {
          "output_type": "stream",
          "name": "stdout",
          "text": [
            "      Name  Age\n",
            "K0     Jai   27\n",
            "K1  Princi   24\n",
            "K2  Gaurav   22\n",
            "K3    Anuj   32 \n",
            "\n",
            "       Address Qualification\n",
            "K0  Allahabad           MCA\n",
            "K2    Kannuaj           Phd\n",
            "K3  Allahabad          Bcom\n",
            "K4    Kannuaj        B.hons\n"
          ]
        }
      ]
    },
    {
      "cell_type": "code",
      "metadata": {
        "colab": {
          "base_uri": "https://localhost:8080/",
          "height": 172
        },
        "id": "xqHjRdJUFA8H",
        "outputId": "0c6621b8-8c9b-4f7e-9081-e0c89af2dc0c"
      },
      "source": [
        "# joining dataframe\n",
        "res = df.join(df1)\n",
        "\n",
        "res"
      ],
      "execution_count": 61,
      "outputs": [
        {
          "output_type": "execute_result",
          "data": {
            "text/html": [
              "<div>\n",
              "<style scoped>\n",
              "    .dataframe tbody tr th:only-of-type {\n",
              "        vertical-align: middle;\n",
              "    }\n",
              "\n",
              "    .dataframe tbody tr th {\n",
              "        vertical-align: top;\n",
              "    }\n",
              "\n",
              "    .dataframe thead th {\n",
              "        text-align: right;\n",
              "    }\n",
              "</style>\n",
              "<table border=\"1\" class=\"dataframe\">\n",
              "  <thead>\n",
              "    <tr style=\"text-align: right;\">\n",
              "      <th></th>\n",
              "      <th>Name</th>\n",
              "      <th>Age</th>\n",
              "      <th>Address</th>\n",
              "      <th>Qualification</th>\n",
              "    </tr>\n",
              "  </thead>\n",
              "  <tbody>\n",
              "    <tr>\n",
              "      <th>K0</th>\n",
              "      <td>Jai</td>\n",
              "      <td>27</td>\n",
              "      <td>Allahabad</td>\n",
              "      <td>MCA</td>\n",
              "    </tr>\n",
              "    <tr>\n",
              "      <th>K1</th>\n",
              "      <td>Princi</td>\n",
              "      <td>24</td>\n",
              "      <td>NaN</td>\n",
              "      <td>NaN</td>\n",
              "    </tr>\n",
              "    <tr>\n",
              "      <th>K2</th>\n",
              "      <td>Gaurav</td>\n",
              "      <td>22</td>\n",
              "      <td>Kannuaj</td>\n",
              "      <td>Phd</td>\n",
              "    </tr>\n",
              "    <tr>\n",
              "      <th>K3</th>\n",
              "      <td>Anuj</td>\n",
              "      <td>32</td>\n",
              "      <td>Allahabad</td>\n",
              "      <td>Bcom</td>\n",
              "    </tr>\n",
              "  </tbody>\n",
              "</table>\n",
              "</div>"
            ],
            "text/plain": [
              "      Name  Age    Address Qualification\n",
              "K0     Jai   27  Allahabad           MCA\n",
              "K1  Princi   24        NaN           NaN\n",
              "K2  Gaurav   22    Kannuaj           Phd\n",
              "K3    Anuj   32  Allahabad          Bcom"
            ]
          },
          "metadata": {},
          "execution_count": 61
        }
      ]
    },
    {
      "cell_type": "code",
      "metadata": {
        "colab": {
          "base_uri": "https://localhost:8080/",
          "height": 203
        },
        "id": "boSBYRL3FDIe",
        "outputId": "8139e5c5-3538-4463-ac4b-304b91ccdb18"
      },
      "source": [
        "# getting union\n",
        "res1 = df.join(df1, how='outer')\n",
        "\n",
        "res1"
      ],
      "execution_count": 62,
      "outputs": [
        {
          "output_type": "execute_result",
          "data": {
            "text/html": [
              "<div>\n",
              "<style scoped>\n",
              "    .dataframe tbody tr th:only-of-type {\n",
              "        vertical-align: middle;\n",
              "    }\n",
              "\n",
              "    .dataframe tbody tr th {\n",
              "        vertical-align: top;\n",
              "    }\n",
              "\n",
              "    .dataframe thead th {\n",
              "        text-align: right;\n",
              "    }\n",
              "</style>\n",
              "<table border=\"1\" class=\"dataframe\">\n",
              "  <thead>\n",
              "    <tr style=\"text-align: right;\">\n",
              "      <th></th>\n",
              "      <th>Name</th>\n",
              "      <th>Age</th>\n",
              "      <th>Address</th>\n",
              "      <th>Qualification</th>\n",
              "    </tr>\n",
              "  </thead>\n",
              "  <tbody>\n",
              "    <tr>\n",
              "      <th>K0</th>\n",
              "      <td>Jai</td>\n",
              "      <td>27.0</td>\n",
              "      <td>Allahabad</td>\n",
              "      <td>MCA</td>\n",
              "    </tr>\n",
              "    <tr>\n",
              "      <th>K1</th>\n",
              "      <td>Princi</td>\n",
              "      <td>24.0</td>\n",
              "      <td>NaN</td>\n",
              "      <td>NaN</td>\n",
              "    </tr>\n",
              "    <tr>\n",
              "      <th>K2</th>\n",
              "      <td>Gaurav</td>\n",
              "      <td>22.0</td>\n",
              "      <td>Kannuaj</td>\n",
              "      <td>Phd</td>\n",
              "    </tr>\n",
              "    <tr>\n",
              "      <th>K3</th>\n",
              "      <td>Anuj</td>\n",
              "      <td>32.0</td>\n",
              "      <td>Allahabad</td>\n",
              "      <td>Bcom</td>\n",
              "    </tr>\n",
              "    <tr>\n",
              "      <th>K4</th>\n",
              "      <td>NaN</td>\n",
              "      <td>NaN</td>\n",
              "      <td>Kannuaj</td>\n",
              "      <td>B.hons</td>\n",
              "    </tr>\n",
              "  </tbody>\n",
              "</table>\n",
              "</div>"
            ],
            "text/plain": [
              "      Name   Age    Address Qualification\n",
              "K0     Jai  27.0  Allahabad           MCA\n",
              "K1  Princi  24.0        NaN           NaN\n",
              "K2  Gaurav  22.0    Kannuaj           Phd\n",
              "K3    Anuj  32.0  Allahabad          Bcom\n",
              "K4     NaN   NaN    Kannuaj        B.hons"
            ]
          },
          "metadata": {},
          "execution_count": 62
        }
      ]
    },
    {
      "cell_type": "code",
      "metadata": {
        "id": "pNF3nw_1FLFr"
      },
      "source": [
        ""
      ],
      "execution_count": null,
      "outputs": []
    }
  ]
}